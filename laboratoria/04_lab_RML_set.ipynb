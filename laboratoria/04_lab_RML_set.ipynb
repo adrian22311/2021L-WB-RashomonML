{
 "cells": [
  {
   "cell_type": "markdown",
   "metadata": {},
   "source": [
    "## Grid search"
   ]
  },
  {
   "cell_type": "code",
   "execution_count": 5,
   "metadata": {},
   "outputs": [],
   "source": [
    "import matplotlib.pyplot as plt\n",
    "import numpy as np\n",
    "import pandas as pd\n",
    "from IPython.display import Image\n",
    "from IPython.core.display import HTML \n",
    "import seaborn as sns\n",
    "from sklearn import datasets\n",
    "from sklearn.model_selection import train_test_split\n",
    "from sklearn.ensemble import RandomForestClassifier, ExtraTreesClassifier\n",
    "from sklearn.model_selection import GridSearchCV, RandomizedSearchCV\n",
    "\n",
    "\n"
   ]
  },
  {
   "cell_type": "code",
   "execution_count": 6,
   "metadata": {},
   "outputs": [
    {
     "name": "stdout",
     "output_type": "stream",
     "text": [
      "Liczba obserwacji w zbiorze treningowym: 381\n",
      "Liczba obserwacji w zbiorze testowym: 188\n",
      "Liczba zmiennych w modelu: 30\n"
     ]
    }
   ],
   "source": [
    "breast_cancer, breast_cancer_y = datasets.load_breast_cancer(return_X_y=True, as_frame=True)\n",
    "breast_cancer.head()\n",
    "\n",
    "cancer_X_train, cancer_X_test, cancer_y_train, cancer_y_test = train_test_split(breast_cancer, breast_cancer_y, test_size=0.33, random_state=42)\n",
    "print('Liczba obserwacji w zbiorze treningowym:', cancer_X_train.shape[0])\n",
    "print('Liczba obserwacji w zbiorze testowym:', cancer_X_test.shape[0])\n",
    "\n",
    "print('Liczba zmiennych w modelu:', cancer_X_train.shape[1])"
   ]
  },
  {
   "cell_type": "code",
   "execution_count": 15,
   "metadata": {},
   "outputs": [
    {
     "data": {
      "text/plain": [
       "GridSearchCV(estimator=RandomForestClassifier(),\n",
       "             param_grid={'n_estimators': [10, 20, 30, 40, 50, 60, 70, 80, 90,\n",
       "                                          100, 110, 120, 130, 140, 150, 160,\n",
       "                                          170, 180, 190, 200, 210, 220, 230,\n",
       "                                          240, 250, 260, 270, 280, 290, 300, ...]},\n",
       "             scoring='roc_auc')"
      ]
     },
     "execution_count": 15,
     "metadata": {},
     "output_type": "execute_result"
    }
   ],
   "source": [
    "parameters = {'n_estimators':list(np.arange(10, 500, 10, dtype = 'int'))}\n",
    "rf_cf = RandomForestClassifier()\n",
    "## domyslny parametcv = 5\n",
    "\n",
    "clf = GridSearchCV(rf_cf, parameters, scoring = 'roc_auc')\n",
    "clf.fit(cancer_X_train, cancer_y_train)"
   ]
  },
  {
   "cell_type": "code",
   "execution_count": 18,
   "metadata": {},
   "outputs": [
    {
     "data": {
      "text/html": [
       "<div>\n",
       "<style scoped>\n",
       "    .dataframe tbody tr th:only-of-type {\n",
       "        vertical-align: middle;\n",
       "    }\n",
       "\n",
       "    .dataframe tbody tr th {\n",
       "        vertical-align: top;\n",
       "    }\n",
       "\n",
       "    .dataframe thead th {\n",
       "        text-align: right;\n",
       "    }\n",
       "</style>\n",
       "<table border=\"1\" class=\"dataframe\">\n",
       "  <thead>\n",
       "    <tr style=\"text-align: right;\">\n",
       "      <th></th>\n",
       "      <th>mean_fit_time</th>\n",
       "      <th>std_fit_time</th>\n",
       "      <th>mean_score_time</th>\n",
       "      <th>std_score_time</th>\n",
       "      <th>param_n_estimators</th>\n",
       "      <th>params</th>\n",
       "      <th>split0_test_score</th>\n",
       "      <th>split1_test_score</th>\n",
       "      <th>split2_test_score</th>\n",
       "      <th>split3_test_score</th>\n",
       "      <th>split4_test_score</th>\n",
       "      <th>mean_test_score</th>\n",
       "      <th>std_test_score</th>\n",
       "      <th>rank_test_score</th>\n",
       "    </tr>\n",
       "  </thead>\n",
       "  <tbody>\n",
       "    <tr>\n",
       "      <th>0</th>\n",
       "      <td>0.012298</td>\n",
       "      <td>0.001326</td>\n",
       "      <td>0.002561</td>\n",
       "      <td>0.000184</td>\n",
       "      <td>10</td>\n",
       "      <td>{'n_estimators': 10}</td>\n",
       "      <td>0.998204</td>\n",
       "      <td>0.945341</td>\n",
       "      <td>0.995231</td>\n",
       "      <td>0.952678</td>\n",
       "      <td>0.984226</td>\n",
       "      <td>0.975136</td>\n",
       "      <td>0.021958</td>\n",
       "      <td>49</td>\n",
       "    </tr>\n",
       "    <tr>\n",
       "      <th>1</th>\n",
       "      <td>0.021694</td>\n",
       "      <td>0.000308</td>\n",
       "      <td>0.003225</td>\n",
       "      <td>0.000256</td>\n",
       "      <td>20</td>\n",
       "      <td>{'n_estimators': 20}</td>\n",
       "      <td>1.000000</td>\n",
       "      <td>0.970653</td>\n",
       "      <td>0.993397</td>\n",
       "      <td>0.965517</td>\n",
       "      <td>0.994497</td>\n",
       "      <td>0.984813</td>\n",
       "      <td>0.013935</td>\n",
       "      <td>47</td>\n",
       "    </tr>\n",
       "    <tr>\n",
       "      <th>2</th>\n",
       "      <td>0.030721</td>\n",
       "      <td>0.000602</td>\n",
       "      <td>0.003532</td>\n",
       "      <td>0.000039</td>\n",
       "      <td>30</td>\n",
       "      <td>{'n_estimators': 30}</td>\n",
       "      <td>1.000000</td>\n",
       "      <td>0.980191</td>\n",
       "      <td>0.988995</td>\n",
       "      <td>0.986060</td>\n",
       "      <td>0.994131</td>\n",
       "      <td>0.989875</td>\n",
       "      <td>0.006778</td>\n",
       "      <td>1</td>\n",
       "    </tr>\n",
       "    <tr>\n",
       "      <th>3</th>\n",
       "      <td>0.040370</td>\n",
       "      <td>0.000634</td>\n",
       "      <td>0.004242</td>\n",
       "      <td>0.000328</td>\n",
       "      <td>40</td>\n",
       "      <td>{'n_estimators': 40}</td>\n",
       "      <td>0.996049</td>\n",
       "      <td>0.975055</td>\n",
       "      <td>0.996698</td>\n",
       "      <td>0.978357</td>\n",
       "      <td>0.993397</td>\n",
       "      <td>0.987911</td>\n",
       "      <td>0.009275</td>\n",
       "      <td>20</td>\n",
       "    </tr>\n",
       "    <tr>\n",
       "      <th>4</th>\n",
       "      <td>0.051943</td>\n",
       "      <td>0.001236</td>\n",
       "      <td>0.005576</td>\n",
       "      <td>0.001633</td>\n",
       "      <td>50</td>\n",
       "      <td>{'n_estimators': 50}</td>\n",
       "      <td>1.000000</td>\n",
       "      <td>0.977256</td>\n",
       "      <td>0.991930</td>\n",
       "      <td>0.967351</td>\n",
       "      <td>0.993397</td>\n",
       "      <td>0.985987</td>\n",
       "      <td>0.011917</td>\n",
       "      <td>39</td>\n",
       "    </tr>\n",
       "    <tr>\n",
       "      <th>5</th>\n",
       "      <td>0.062004</td>\n",
       "      <td>0.001077</td>\n",
       "      <td>0.005948</td>\n",
       "      <td>0.001007</td>\n",
       "      <td>60</td>\n",
       "      <td>{'n_estimators': 60}</td>\n",
       "      <td>0.997845</td>\n",
       "      <td>0.964784</td>\n",
       "      <td>0.991563</td>\n",
       "      <td>0.970286</td>\n",
       "      <td>0.995965</td>\n",
       "      <td>0.984088</td>\n",
       "      <td>0.013779</td>\n",
       "      <td>48</td>\n",
       "    </tr>\n",
       "    <tr>\n",
       "      <th>6</th>\n",
       "      <td>0.069918</td>\n",
       "      <td>0.000978</td>\n",
       "      <td>0.005931</td>\n",
       "      <td>0.000134</td>\n",
       "      <td>70</td>\n",
       "      <td>{'n_estimators': 70}</td>\n",
       "      <td>1.000000</td>\n",
       "      <td>0.976156</td>\n",
       "      <td>0.990462</td>\n",
       "      <td>0.968819</td>\n",
       "      <td>0.995965</td>\n",
       "      <td>0.986280</td>\n",
       "      <td>0.011891</td>\n",
       "      <td>37</td>\n",
       "    </tr>\n",
       "    <tr>\n",
       "      <th>7</th>\n",
       "      <td>0.079686</td>\n",
       "      <td>0.000887</td>\n",
       "      <td>0.006442</td>\n",
       "      <td>0.000040</td>\n",
       "      <td>80</td>\n",
       "      <td>{'n_estimators': 80}</td>\n",
       "      <td>1.000000</td>\n",
       "      <td>0.978723</td>\n",
       "      <td>0.994131</td>\n",
       "      <td>0.967718</td>\n",
       "      <td>0.994497</td>\n",
       "      <td>0.987014</td>\n",
       "      <td>0.011969</td>\n",
       "      <td>28</td>\n",
       "    </tr>\n",
       "    <tr>\n",
       "      <th>8</th>\n",
       "      <td>0.089981</td>\n",
       "      <td>0.001674</td>\n",
       "      <td>0.007144</td>\n",
       "      <td>0.000112</td>\n",
       "      <td>90</td>\n",
       "      <td>{'n_estimators': 90}</td>\n",
       "      <td>1.000000</td>\n",
       "      <td>0.981658</td>\n",
       "      <td>0.994497</td>\n",
       "      <td>0.966251</td>\n",
       "      <td>0.993764</td>\n",
       "      <td>0.987234</td>\n",
       "      <td>0.012081</td>\n",
       "      <td>27</td>\n",
       "    </tr>\n",
       "    <tr>\n",
       "      <th>9</th>\n",
       "      <td>0.098831</td>\n",
       "      <td>0.001656</td>\n",
       "      <td>0.007612</td>\n",
       "      <td>0.000154</td>\n",
       "      <td>100</td>\n",
       "      <td>{'n_estimators': 100}</td>\n",
       "      <td>0.999641</td>\n",
       "      <td>0.976156</td>\n",
       "      <td>0.993764</td>\n",
       "      <td>0.962949</td>\n",
       "      <td>0.993397</td>\n",
       "      <td>0.985181</td>\n",
       "      <td>0.013608</td>\n",
       "      <td>46</td>\n",
       "    </tr>\n",
       "  </tbody>\n",
       "</table>\n",
       "</div>"
      ],
      "text/plain": [
       "   mean_fit_time  std_fit_time  mean_score_time  std_score_time  \\\n",
       "0       0.012298      0.001326         0.002561        0.000184   \n",
       "1       0.021694      0.000308         0.003225        0.000256   \n",
       "2       0.030721      0.000602         0.003532        0.000039   \n",
       "3       0.040370      0.000634         0.004242        0.000328   \n",
       "4       0.051943      0.001236         0.005576        0.001633   \n",
       "5       0.062004      0.001077         0.005948        0.001007   \n",
       "6       0.069918      0.000978         0.005931        0.000134   \n",
       "7       0.079686      0.000887         0.006442        0.000040   \n",
       "8       0.089981      0.001674         0.007144        0.000112   \n",
       "9       0.098831      0.001656         0.007612        0.000154   \n",
       "\n",
       "  param_n_estimators                 params  split0_test_score  \\\n",
       "0                 10   {'n_estimators': 10}           0.998204   \n",
       "1                 20   {'n_estimators': 20}           1.000000   \n",
       "2                 30   {'n_estimators': 30}           1.000000   \n",
       "3                 40   {'n_estimators': 40}           0.996049   \n",
       "4                 50   {'n_estimators': 50}           1.000000   \n",
       "5                 60   {'n_estimators': 60}           0.997845   \n",
       "6                 70   {'n_estimators': 70}           1.000000   \n",
       "7                 80   {'n_estimators': 80}           1.000000   \n",
       "8                 90   {'n_estimators': 90}           1.000000   \n",
       "9                100  {'n_estimators': 100}           0.999641   \n",
       "\n",
       "   split1_test_score  split2_test_score  split3_test_score  split4_test_score  \\\n",
       "0           0.945341           0.995231           0.952678           0.984226   \n",
       "1           0.970653           0.993397           0.965517           0.994497   \n",
       "2           0.980191           0.988995           0.986060           0.994131   \n",
       "3           0.975055           0.996698           0.978357           0.993397   \n",
       "4           0.977256           0.991930           0.967351           0.993397   \n",
       "5           0.964784           0.991563           0.970286           0.995965   \n",
       "6           0.976156           0.990462           0.968819           0.995965   \n",
       "7           0.978723           0.994131           0.967718           0.994497   \n",
       "8           0.981658           0.994497           0.966251           0.993764   \n",
       "9           0.976156           0.993764           0.962949           0.993397   \n",
       "\n",
       "   mean_test_score  std_test_score  rank_test_score  \n",
       "0         0.975136        0.021958               49  \n",
       "1         0.984813        0.013935               47  \n",
       "2         0.989875        0.006778                1  \n",
       "3         0.987911        0.009275               20  \n",
       "4         0.985987        0.011917               39  \n",
       "5         0.984088        0.013779               48  \n",
       "6         0.986280        0.011891               37  \n",
       "7         0.987014        0.011969               28  \n",
       "8         0.987234        0.012081               27  \n",
       "9         0.985181        0.013608               46  "
      ]
     },
     "execution_count": 18,
     "metadata": {},
     "output_type": "execute_result"
    }
   ],
   "source": [
    "clf_cv_results_df = pd.DataFrame(clf.cv_results_)\n",
    "clf_cv_results_df.head(10)"
   ]
  },
  {
   "cell_type": "code",
   "execution_count": 27,
   "metadata": {},
   "outputs": [
    {
     "data": {
      "text/plain": [
       "<AxesSubplot:xlabel='param_n_estimators', ylabel='mean_test_score'>"
      ]
     },
     "execution_count": 27,
     "metadata": {},
     "output_type": "execute_result"
    },
    {
     "data": {
      "image/png": "[encoded data removed]",
      "text/plain": [
       "<Figure size 432x288 with 1 Axes>"
      ]
     },
     "metadata": {
      "needs_background": "light"
     },
     "output_type": "display_data"
    }
   ],
   "source": [
    "chart = sns.lineplot(data = clf_cv_results_df, x = 'param_n_estimators', y = 'mean_test_score')\n",
    "chart\n",
    "\n"
   ]
  },
  {
   "cell_type": "code",
   "execution_count": 66,
   "metadata": {},
   "outputs": [
    {
     "name": "stdout",
     "output_type": "stream",
     "text": [
      "Best point - n_estomatores:  30 \n",
      "mean test score:  0.9898752751283932\n"
     ]
    },
    {
     "data": {
      "text/plain": [
       "<matplotlib.collections.PathCollection at 0x7f8056adbe20>"
      ]
     },
     "execution_count": 66,
     "metadata": {},
     "output_type": "execute_result"
    },
    {
     "data": {
      "image/png": "[encoded data removed]",
      "text/plain": [
       "<Figure size 576x288 with 1 Axes>"
      ]
     },
     "metadata": {},
     "output_type": "display_data"
    }
   ],
   "source": [
    "# chart = sns.lineplot(data = clf_cv_results_df, x = 'param_n_estimators', y = 'mean_test_score')\n",
    "best_index = clf_cv_results_df.mean_test_score.argmax()\n",
    "best_point = clf_cv_results_df.loc[best_index,:]\n",
    "\n",
    "print('Best point - n_estomatores: ', best_point['param_n_estimators'], '\\nmean test score: ', best_point['mean_test_score'])\n",
    "theta = 0.002\n",
    "\n",
    "fig, ax = plt.subplots(figsize=(8,4))\n",
    "chart = sns.lineplot(ax=ax, data = clf_cv_results_df, x = 'param_n_estimators', y = 'mean_test_score')\n",
    "chart.axes.axhline(y = best_point['mean_test_score'] - theta,  color='red', linewidth=1, alpha=.7)\n",
    "plt.scatter(x = best_point['param_n_estimators'], y= best_point['mean_test_score'], marker='o')"
   ]
  },
  {
   "cell_type": "markdown",
   "metadata": {},
   "source": [
    "## Rashomon set\n",
    "Source: Semenova, L., Rudin, C. and Parr, R., 2019. A study in Rashomon curves and volumes: A new perspective on generalization and model simplicity in machine learning. [arXiv preprint arXiv:1908.01755](https://arxiv.org/abs/1908.01755).\n",
    "\n",
    "\n",
    "Definition **Rashomon set**\n",
    "\n",
    "\n",
    "Given $\\theta > 0$, a data set $S$, a hypothesis space $\\mathcal{F}$, and a loss function $\\phi$, the Rashomon set $\\hat{R}_{set}(\\mathcal{F}, \\theta)$  is the subspace of the hypothesis space defined as follows:\n",
    "$$ \\hat{R}_{set}(\\mathcal{F}, \\theta) := {f \\in \\mathcal{F} : \\hat{L}(f) \\leq \\hat{L}( \\hat{f}) + \\theta},$$\n",
    "where $\\hat{f}$ is an empirical risk minimizer for the training data $S$ with respect to a loss function $\\phi:\n",
    "\\hat{f}\\in argmin_{f \\in \\mathcal{F}} \\hat{L} (f).$"
   ]
  },
  {
   "cell_type": "markdown",
   "metadata": {},
   "source": [
    "![](image/rashomon_set_2d.png)"
   ]
  },
  {
   "cell_type": "markdown",
   "metadata": {},
   "source": [
    "Definition 2 **Rashomon ratio**\n",
    "\n",
    "Let $F$ be a hypothesis space given a data set $S$. The Rashomon ratio is a ratio of the volume of models inside the Rashomon set $\\hat{R}_{set}(\\mathcal{F}, \\theta)$ to the volume of models in the hypothesis space $\\mathcal{F}$:\n",
    "$$ \\hat{R}_{ratio}(\\mathcal{F}, \\theta) = \\frac{\\mathcal{V}( \\hat{R}_{set}(\\mathcal{F}, \\theta))}{\\mathcal{V}(\\mathcal{F})}$$"
   ]
  },
  {
   "cell_type": "markdown",
   "metadata": {},
   "source": [
    "## Jak będziecie generować zbiory Rashomon?\n",
    "\n",
    "Możemy zastosować random search dla wybranego algorytmu. Przykładowe zakresy hiperparametrów dla algorytmów (co prawda w R, ale analogiczne można znaleźć dla algorytmów w scikit-learn) można znaleźć w artykule (tabela 1):\n",
    "[Tunability: Importance of Hyperparameters of Machine\n",
    "Learning Algorithms](https://jmlr.org/papers/volume20/18-444/18-444.pdf)\n",
    "\n",
    "![](image/tunability.png)\n",
    "\n"
   ]
  },
  {
   "cell_type": "markdown",
   "metadata": {},
   "source": [
    "### Pytania badawcze:\n",
    "- dla wybranego algorytmu, które hiperparametry powinniśmy zmieniać (i jak?) żeby budować Rashomon set? Może da się to robić mądrzej niż random search\n",
    "\n",
    "- zależność pomiędzy Rashomon ratio i funkcją straty\n",
    "![](image/rashomon_curve_general_ml.png)"
   ]
  },
  {
   "cell_type": "markdown",
   "metadata": {},
   "source": [
    "## Po co nam Rashomon set?"
   ]
  },
  {
   "cell_type": "markdown",
   "metadata": {},
   "source": [
    "Wytrenowane modele mogą mieć różną strukturę i zależność od zmiennych może być różna:\n",
    "\n",
    "![](image/rashomon_breiman.png)\n",
    "Source: Breiman, L., 2001. Statistical modeling: The two cultures (with comments and a rejoinder by the author). Statistical science, 16(3), pp.199-231."
   ]
  },
  {
   "cell_type": "markdown",
   "metadata": {},
   "source": [
    "#### Dla modeli liniowych możemy patrzeć bezpośrednio na współczynniki, a co z black-boxami?\n",
    "\n",
    "Spróbujemy użyć technik XAI.\n",
    "\n",
    "![](image/04_covid_pdp_xgboost_monotnic.png)\n",
    "![](image/04_covid_pdp_xgboost.png)\n",
    "![](image/04_covid_pdp_diff_models.png)\n",
    "\n",
    "\n",
    "[Rashomon effect and the severe condition after covid-19 infections](https://medium.com/responsibleml/rashomon-effect-and-the-severe-condition-after-covid-19-infections-af3cfcc4db4)"
   ]
  },
  {
   "cell_type": "markdown",
   "metadata": {},
   "source": [
    "### Pytanie badawcze:\n",
    "- dla wybranego modelu (rekomendowany gbm/xgboost) jakie parametry musimy zmieniać żeby uzyskać różne krzywe PDP\n",
    "- wprowadzenie miary oceny *zróżnicowania* modeli w oparciu o krzywe PDP"
   ]
  },
  {
   "cell_type": "code",
   "execution_count": null,
   "metadata": {},
   "outputs": [],
   "source": []
  }
 ],
 "metadata": {
  "kernelspec": {
   "display_name": "Python 3",
   "language": "python",
   "name": "python3"
  },
  "language_info": {
   "codemirror_mode": {
    "name": "ipython",
    "version": 3
   },
   "file_extension": ".py",
   "mimetype": "text/x-python",
   "name": "python",
   "nbconvert_exporter": "python",
   "pygments_lexer": "ipython3",
   "version": "3.8.5"
  }
 },
 "nbformat": 4,
 "nbformat_minor": 4
}
