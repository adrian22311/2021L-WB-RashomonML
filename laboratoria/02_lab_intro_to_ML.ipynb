{
 "cells": [
  {
   "cell_type": "code",
   "execution_count": 1,
   "metadata": {},
   "outputs": [],
   "source": [
    "import matplotlib.pyplot as plt\n",
    "import numpy as np\n",
    "import pandas as pd\n",
    "from IPython.display import Image\n",
    "from IPython.core.display import HTML \n",
    "import seaborn as sns"
   ]
  },
  {
   "cell_type": "markdown",
   "metadata": {},
   "source": [
    "# Wstęp do machine learningu"
   ]
  },
  {
   "cell_type": "markdown",
   "metadata": {},
   "source": [
    "<div>\n",
    "<img src=\"http://ema.drwhy.ai/figure/MDP_washmachine.png\" width=\"500\" style=\"float:middle\"/>\n",
    "</div>\n",
    "\n",
    "Narzędzia do tworzenia modeli ML:\n",
    "- R: dużo różnych pakietów, ale istnieją frameworki, które ujednolocają interfejs: [mlr3](https://mlr3.mlr-org.com/), [tidymodels](https://www.tidymodels.org/)\n",
    "- Python: biblioteka [sklearn](https://scikit-learn.org/stable/supervised_learning.html) (dla modeli klasycznych), Keras, PyTorch dla modeli głębokich"
   ]
  },
  {
   "cell_type": "markdown",
   "metadata": {},
   "source": [
    "# Data preparation"
   ]
  },
  {
   "cell_type": "code",
   "execution_count": 2,
   "metadata": {},
   "outputs": [],
   "source": [
    "from sklearn import datasets"
   ]
  },
  {
   "cell_type": "code",
   "execution_count": 3,
   "metadata": {},
   "outputs": [
    {
     "data": {
      "text/html": [
       "<div>\n",
       "<style scoped>\n",
       "    .dataframe tbody tr th:only-of-type {\n",
       "        vertical-align: middle;\n",
       "    }\n",
       "\n",
       "    .dataframe tbody tr th {\n",
       "        vertical-align: top;\n",
       "    }\n",
       "\n",
       "    .dataframe thead th {\n",
       "        text-align: right;\n",
       "    }\n",
       "</style>\n",
       "<table border=\"1\" class=\"dataframe\">\n",
       "  <thead>\n",
       "    <tr style=\"text-align: right;\">\n",
       "      <th></th>\n",
       "      <th>age</th>\n",
       "      <th>sex</th>\n",
       "      <th>bmi</th>\n",
       "      <th>bp</th>\n",
       "      <th>s1</th>\n",
       "      <th>s2</th>\n",
       "      <th>s3</th>\n",
       "      <th>s4</th>\n",
       "      <th>s5</th>\n",
       "      <th>s6</th>\n",
       "    </tr>\n",
       "  </thead>\n",
       "  <tbody>\n",
       "    <tr>\n",
       "      <th>0</th>\n",
       "      <td>0.038076</td>\n",
       "      <td>0.050680</td>\n",
       "      <td>0.061696</td>\n",
       "      <td>0.021872</td>\n",
       "      <td>-0.044223</td>\n",
       "      <td>-0.034821</td>\n",
       "      <td>-0.043401</td>\n",
       "      <td>-0.002592</td>\n",
       "      <td>0.019908</td>\n",
       "      <td>-0.017646</td>\n",
       "    </tr>\n",
       "    <tr>\n",
       "      <th>1</th>\n",
       "      <td>-0.001882</td>\n",
       "      <td>-0.044642</td>\n",
       "      <td>-0.051474</td>\n",
       "      <td>-0.026328</td>\n",
       "      <td>-0.008449</td>\n",
       "      <td>-0.019163</td>\n",
       "      <td>0.074412</td>\n",
       "      <td>-0.039493</td>\n",
       "      <td>-0.068330</td>\n",
       "      <td>-0.092204</td>\n",
       "    </tr>\n",
       "    <tr>\n",
       "      <th>2</th>\n",
       "      <td>0.085299</td>\n",
       "      <td>0.050680</td>\n",
       "      <td>0.044451</td>\n",
       "      <td>-0.005671</td>\n",
       "      <td>-0.045599</td>\n",
       "      <td>-0.034194</td>\n",
       "      <td>-0.032356</td>\n",
       "      <td>-0.002592</td>\n",
       "      <td>0.002864</td>\n",
       "      <td>-0.025930</td>\n",
       "    </tr>\n",
       "    <tr>\n",
       "      <th>3</th>\n",
       "      <td>-0.089063</td>\n",
       "      <td>-0.044642</td>\n",
       "      <td>-0.011595</td>\n",
       "      <td>-0.036656</td>\n",
       "      <td>0.012191</td>\n",
       "      <td>0.024991</td>\n",
       "      <td>-0.036038</td>\n",
       "      <td>0.034309</td>\n",
       "      <td>0.022692</td>\n",
       "      <td>-0.009362</td>\n",
       "    </tr>\n",
       "    <tr>\n",
       "      <th>4</th>\n",
       "      <td>0.005383</td>\n",
       "      <td>-0.044642</td>\n",
       "      <td>-0.036385</td>\n",
       "      <td>0.021872</td>\n",
       "      <td>0.003935</td>\n",
       "      <td>0.015596</td>\n",
       "      <td>0.008142</td>\n",
       "      <td>-0.002592</td>\n",
       "      <td>-0.031991</td>\n",
       "      <td>-0.046641</td>\n",
       "    </tr>\n",
       "  </tbody>\n",
       "</table>\n",
       "</div>"
      ],
      "text/plain": [
       "        age       sex       bmi        bp        s1        s2        s3  \\\n",
       "0  0.038076  0.050680  0.061696  0.021872 -0.044223 -0.034821 -0.043401   \n",
       "1 -0.001882 -0.044642 -0.051474 -0.026328 -0.008449 -0.019163  0.074412   \n",
       "2  0.085299  0.050680  0.044451 -0.005671 -0.045599 -0.034194 -0.032356   \n",
       "3 -0.089063 -0.044642 -0.011595 -0.036656  0.012191  0.024991 -0.036038   \n",
       "4  0.005383 -0.044642 -0.036385  0.021872  0.003935  0.015596  0.008142   \n",
       "\n",
       "         s4        s5        s6  \n",
       "0 -0.002592  0.019908 -0.017646  \n",
       "1 -0.039493 -0.068330 -0.092204  \n",
       "2 -0.002592  0.002864 -0.025930  \n",
       "3  0.034309  0.022692 -0.009362  \n",
       "4 -0.002592 -0.031991 -0.046641  "
      ]
     },
     "execution_count": 3,
     "metadata": {},
     "output_type": "execute_result"
    }
   ],
   "source": [
    "diabetes, diabetes_y = datasets.load_diabetes(return_X_y=True, as_frame=True)\n",
    "diabetes.head()"
   ]
  },
  {
   "cell_type": "markdown",
   "metadata": {},
   "source": [
    "Zwyczajowo dane opisane w dwuwymiarowej tablicy oznacza się jako `X`.\n",
    "\n",
    "**Wiersze** - kolejne **obserwacje**. \n",
    "\n",
    "**Kolumny** - kolejne **zmienne objaśniające**, cechy którymi opisujemy obserwacje."
   ]
  },
  {
   "cell_type": "code",
   "execution_count": 4,
   "metadata": {},
   "outputs": [
    {
     "name": "stdout",
     "output_type": "stream",
     "text": [
      "Liczba obserwacji w zbiorze: 442, liczba zmiennych: 10\n"
     ]
    }
   ],
   "source": [
    "print(f'Liczba obserwacji w zbiorze: {diabetes.shape[0]}, liczba zmiennych: {diabetes.shape[1]}')"
   ]
  },
  {
   "cell_type": "markdown",
   "metadata": {},
   "source": [
    "Dodatkowa atrybut który chcemy przewidywać to jest **zmienna odpowiedzi**. Może to być np. cena samochodu, informacja czy dany klient spłacił kredyt.\n",
    "\n",
    "Jeśli potrafimy zdefiniować zmienną odpowiedzi to mówmi o uczeniu pod nadzorem - **supervised learning** ."
   ]
  },
  {
   "cell_type": "code",
   "execution_count": 25,
   "metadata": {},
   "outputs": [
    {
     "data": {
      "text/plain": [
       "0    151.0\n",
       "1     75.0\n",
       "2    141.0\n",
       "3    206.0\n",
       "4    135.0\n",
       "Name: target, dtype: float64"
      ]
     },
     "execution_count": 25,
     "metadata": {},
     "output_type": "execute_result"
    }
   ],
   "source": [
    "diabetes_y.head()"
   ]
  },
  {
   "cell_type": "code",
   "execution_count": null,
   "metadata": {},
   "outputs": [],
   "source": []
  },
  {
   "cell_type": "markdown",
   "metadata": {},
   "source": [
    "## Supervised learning\n"
   ]
  },
  {
   "cell_type": "markdown",
   "metadata": {},
   "source": [
    "### Regresja - regression\n"
   ]
  },
  {
   "cell_type": "markdown",
   "metadata": {},
   "source": [
    "\n",
    "Zmienna odpowiedzi ma charakter ciągły, może przyjmować wartość liczbową: rzeczywiste lub naturalne ($y \\in \\mathbf{R}$).\n",
    "\n",
    "Przykłady:\n",
    "- predykcja ceny mieszkania\n",
    "- predykcja wzrostu osób\n"
   ]
  },
  {
   "cell_type": "code",
   "execution_count": 5,
   "metadata": {},
   "outputs": [
    {
     "data": {
      "text/plain": [
       "<AxesSubplot:xlabel='target', ylabel='Count'>"
      ]
     },
     "execution_count": 5,
     "metadata": {},
     "output_type": "execute_result"
    },
    {
     "data": {
      "image/png": "[encoded data removed]",
      "text/plain": [
       "<Figure size 432x288 with 1 Axes>"
      ]
     },
     "metadata": {
      "needs_background": "light"
     },
     "output_type": "display_data"
    }
   ],
   "source": [
    "sns.histplot(diabetes_y,bins = 30)"
   ]
  },
  {
   "cell_type": "markdown",
   "metadata": {},
   "source": [
    "### Klasyikacja binarna - classification\n",
    "\n",
    "\n",
    "W przypadku klasyfikacji binarnej zmienna odpowiedzi może przyjmować dwie wartości, $y \\in \\{0,1\\}$.\n"
   ]
  },
  {
   "cell_type": "code",
   "execution_count": 6,
   "metadata": {},
   "outputs": [
    {
     "data": {
      "text/html": [
       "<div>\n",
       "<style scoped>\n",
       "    .dataframe tbody tr th:only-of-type {\n",
       "        vertical-align: middle;\n",
       "    }\n",
       "\n",
       "    .dataframe tbody tr th {\n",
       "        vertical-align: top;\n",
       "    }\n",
       "\n",
       "    .dataframe thead th {\n",
       "        text-align: right;\n",
       "    }\n",
       "</style>\n",
       "<table border=\"1\" class=\"dataframe\">\n",
       "  <thead>\n",
       "    <tr style=\"text-align: right;\">\n",
       "      <th></th>\n",
       "      <th>mean radius</th>\n",
       "      <th>mean texture</th>\n",
       "      <th>mean perimeter</th>\n",
       "      <th>mean area</th>\n",
       "      <th>mean smoothness</th>\n",
       "      <th>mean compactness</th>\n",
       "      <th>mean concavity</th>\n",
       "      <th>mean concave points</th>\n",
       "      <th>mean symmetry</th>\n",
       "      <th>mean fractal dimension</th>\n",
       "      <th>...</th>\n",
       "      <th>worst radius</th>\n",
       "      <th>worst texture</th>\n",
       "      <th>worst perimeter</th>\n",
       "      <th>worst area</th>\n",
       "      <th>worst smoothness</th>\n",
       "      <th>worst compactness</th>\n",
       "      <th>worst concavity</th>\n",
       "      <th>worst concave points</th>\n",
       "      <th>worst symmetry</th>\n",
       "      <th>worst fractal dimension</th>\n",
       "    </tr>\n",
       "  </thead>\n",
       "  <tbody>\n",
       "    <tr>\n",
       "      <th>0</th>\n",
       "      <td>17.99</td>\n",
       "      <td>10.38</td>\n",
       "      <td>122.80</td>\n",
       "      <td>1001.0</td>\n",
       "      <td>0.11840</td>\n",
       "      <td>0.27760</td>\n",
       "      <td>0.3001</td>\n",
       "      <td>0.14710</td>\n",
       "      <td>0.2419</td>\n",
       "      <td>0.07871</td>\n",
       "      <td>...</td>\n",
       "      <td>25.38</td>\n",
       "      <td>17.33</td>\n",
       "      <td>184.60</td>\n",
       "      <td>2019.0</td>\n",
       "      <td>0.1622</td>\n",
       "      <td>0.6656</td>\n",
       "      <td>0.7119</td>\n",
       "      <td>0.2654</td>\n",
       "      <td>0.4601</td>\n",
       "      <td>0.11890</td>\n",
       "    </tr>\n",
       "    <tr>\n",
       "      <th>1</th>\n",
       "      <td>20.57</td>\n",
       "      <td>17.77</td>\n",
       "      <td>132.90</td>\n",
       "      <td>1326.0</td>\n",
       "      <td>0.08474</td>\n",
       "      <td>0.07864</td>\n",
       "      <td>0.0869</td>\n",
       "      <td>0.07017</td>\n",
       "      <td>0.1812</td>\n",
       "      <td>0.05667</td>\n",
       "      <td>...</td>\n",
       "      <td>24.99</td>\n",
       "      <td>23.41</td>\n",
       "      <td>158.80</td>\n",
       "      <td>1956.0</td>\n",
       "      <td>0.1238</td>\n",
       "      <td>0.1866</td>\n",
       "      <td>0.2416</td>\n",
       "      <td>0.1860</td>\n",
       "      <td>0.2750</td>\n",
       "      <td>0.08902</td>\n",
       "    </tr>\n",
       "    <tr>\n",
       "      <th>2</th>\n",
       "      <td>19.69</td>\n",
       "      <td>21.25</td>\n",
       "      <td>130.00</td>\n",
       "      <td>1203.0</td>\n",
       "      <td>0.10960</td>\n",
       "      <td>0.15990</td>\n",
       "      <td>0.1974</td>\n",
       "      <td>0.12790</td>\n",
       "      <td>0.2069</td>\n",
       "      <td>0.05999</td>\n",
       "      <td>...</td>\n",
       "      <td>23.57</td>\n",
       "      <td>25.53</td>\n",
       "      <td>152.50</td>\n",
       "      <td>1709.0</td>\n",
       "      <td>0.1444</td>\n",
       "      <td>0.4245</td>\n",
       "      <td>0.4504</td>\n",
       "      <td>0.2430</td>\n",
       "      <td>0.3613</td>\n",
       "      <td>0.08758</td>\n",
       "    </tr>\n",
       "    <tr>\n",
       "      <th>3</th>\n",
       "      <td>11.42</td>\n",
       "      <td>20.38</td>\n",
       "      <td>77.58</td>\n",
       "      <td>386.1</td>\n",
       "      <td>0.14250</td>\n",
       "      <td>0.28390</td>\n",
       "      <td>0.2414</td>\n",
       "      <td>0.10520</td>\n",
       "      <td>0.2597</td>\n",
       "      <td>0.09744</td>\n",
       "      <td>...</td>\n",
       "      <td>14.91</td>\n",
       "      <td>26.50</td>\n",
       "      <td>98.87</td>\n",
       "      <td>567.7</td>\n",
       "      <td>0.2098</td>\n",
       "      <td>0.8663</td>\n",
       "      <td>0.6869</td>\n",
       "      <td>0.2575</td>\n",
       "      <td>0.6638</td>\n",
       "      <td>0.17300</td>\n",
       "    </tr>\n",
       "    <tr>\n",
       "      <th>4</th>\n",
       "      <td>20.29</td>\n",
       "      <td>14.34</td>\n",
       "      <td>135.10</td>\n",
       "      <td>1297.0</td>\n",
       "      <td>0.10030</td>\n",
       "      <td>0.13280</td>\n",
       "      <td>0.1980</td>\n",
       "      <td>0.10430</td>\n",
       "      <td>0.1809</td>\n",
       "      <td>0.05883</td>\n",
       "      <td>...</td>\n",
       "      <td>22.54</td>\n",
       "      <td>16.67</td>\n",
       "      <td>152.20</td>\n",
       "      <td>1575.0</td>\n",
       "      <td>0.1374</td>\n",
       "      <td>0.2050</td>\n",
       "      <td>0.4000</td>\n",
       "      <td>0.1625</td>\n",
       "      <td>0.2364</td>\n",
       "      <td>0.07678</td>\n",
       "    </tr>\n",
       "  </tbody>\n",
       "</table>\n",
       "<p>5 rows × 30 columns</p>\n",
       "</div>"
      ],
      "text/plain": [
       "   mean radius  mean texture  mean perimeter  mean area  mean smoothness  \\\n",
       "0        17.99         10.38          122.80     1001.0          0.11840   \n",
       "1        20.57         17.77          132.90     1326.0          0.08474   \n",
       "2        19.69         21.25          130.00     1203.0          0.10960   \n",
       "3        11.42         20.38           77.58      386.1          0.14250   \n",
       "4        20.29         14.34          135.10     1297.0          0.10030   \n",
       "\n",
       "   mean compactness  mean concavity  mean concave points  mean symmetry  \\\n",
       "0           0.27760          0.3001              0.14710         0.2419   \n",
       "1           0.07864          0.0869              0.07017         0.1812   \n",
       "2           0.15990          0.1974              0.12790         0.2069   \n",
       "3           0.28390          0.2414              0.10520         0.2597   \n",
       "4           0.13280          0.1980              0.10430         0.1809   \n",
       "\n",
       "   mean fractal dimension  ...  worst radius  worst texture  worst perimeter  \\\n",
       "0                 0.07871  ...         25.38          17.33           184.60   \n",
       "1                 0.05667  ...         24.99          23.41           158.80   \n",
       "2                 0.05999  ...         23.57          25.53           152.50   \n",
       "3                 0.09744  ...         14.91          26.50            98.87   \n",
       "4                 0.05883  ...         22.54          16.67           152.20   \n",
       "\n",
       "   worst area  worst smoothness  worst compactness  worst concavity  \\\n",
       "0      2019.0            0.1622             0.6656           0.7119   \n",
       "1      1956.0            0.1238             0.1866           0.2416   \n",
       "2      1709.0            0.1444             0.4245           0.4504   \n",
       "3       567.7            0.2098             0.8663           0.6869   \n",
       "4      1575.0            0.1374             0.2050           0.4000   \n",
       "\n",
       "   worst concave points  worst symmetry  worst fractal dimension  \n",
       "0                0.2654          0.4601                  0.11890  \n",
       "1                0.1860          0.2750                  0.08902  \n",
       "2                0.2430          0.3613                  0.08758  \n",
       "3                0.2575          0.6638                  0.17300  \n",
       "4                0.1625          0.2364                  0.07678  \n",
       "\n",
       "[5 rows x 30 columns]"
      ]
     },
     "execution_count": 6,
     "metadata": {},
     "output_type": "execute_result"
    }
   ],
   "source": [
    "breast_cancer, breast_cancer_y = datasets.load_breast_cancer(return_X_y=True, as_frame=True)\n",
    "breast_cancer.head()"
   ]
  },
  {
   "cell_type": "code",
   "execution_count": 33,
   "metadata": {},
   "outputs": [
    {
     "data": {
      "text/plain": [
       "<AxesSubplot:xlabel='target', ylabel='Count'>"
      ]
     },
     "execution_count": 33,
     "metadata": {},
     "output_type": "execute_result"
    },
    {
     "data": {
      "image/png": "[encoded data removed]",
      "text/plain": [
       "<Figure size 432x288 with 1 Axes>"
      ]
     },
     "metadata": {
      "needs_background": "light"
     },
     "output_type": "display_data"
    }
   ],
   "source": [
    "sns.histplot(breast_cancer_y)"
   ]
  },
  {
   "cell_type": "markdown",
   "metadata": {},
   "source": [
    "### Klasyfikacja wieloetykietowa\n"
   ]
  },
  {
   "cell_type": "code",
   "execution_count": 7,
   "metadata": {},
   "outputs": [
    {
     "data": {
      "text/html": [
       "<div>\n",
       "<style scoped>\n",
       "    .dataframe tbody tr th:only-of-type {\n",
       "        vertical-align: middle;\n",
       "    }\n",
       "\n",
       "    .dataframe tbody tr th {\n",
       "        vertical-align: top;\n",
       "    }\n",
       "\n",
       "    .dataframe thead th {\n",
       "        text-align: right;\n",
       "    }\n",
       "</style>\n",
       "<table border=\"1\" class=\"dataframe\">\n",
       "  <thead>\n",
       "    <tr style=\"text-align: right;\">\n",
       "      <th></th>\n",
       "      <th>sepal length (cm)</th>\n",
       "      <th>sepal width (cm)</th>\n",
       "      <th>petal length (cm)</th>\n",
       "      <th>petal width (cm)</th>\n",
       "    </tr>\n",
       "  </thead>\n",
       "  <tbody>\n",
       "    <tr>\n",
       "      <th>0</th>\n",
       "      <td>5.1</td>\n",
       "      <td>3.5</td>\n",
       "      <td>1.4</td>\n",
       "      <td>0.2</td>\n",
       "    </tr>\n",
       "    <tr>\n",
       "      <th>1</th>\n",
       "      <td>4.9</td>\n",
       "      <td>3.0</td>\n",
       "      <td>1.4</td>\n",
       "      <td>0.2</td>\n",
       "    </tr>\n",
       "    <tr>\n",
       "      <th>2</th>\n",
       "      <td>4.7</td>\n",
       "      <td>3.2</td>\n",
       "      <td>1.3</td>\n",
       "      <td>0.2</td>\n",
       "    </tr>\n",
       "    <tr>\n",
       "      <th>3</th>\n",
       "      <td>4.6</td>\n",
       "      <td>3.1</td>\n",
       "      <td>1.5</td>\n",
       "      <td>0.2</td>\n",
       "    </tr>\n",
       "    <tr>\n",
       "      <th>4</th>\n",
       "      <td>5.0</td>\n",
       "      <td>3.6</td>\n",
       "      <td>1.4</td>\n",
       "      <td>0.2</td>\n",
       "    </tr>\n",
       "  </tbody>\n",
       "</table>\n",
       "</div>"
      ],
      "text/plain": [
       "   sepal length (cm)  sepal width (cm)  petal length (cm)  petal width (cm)\n",
       "0                5.1               3.5                1.4               0.2\n",
       "1                4.9               3.0                1.4               0.2\n",
       "2                4.7               3.2                1.3               0.2\n",
       "3                4.6               3.1                1.5               0.2\n",
       "4                5.0               3.6                1.4               0.2"
      ]
     },
     "execution_count": 7,
     "metadata": {},
     "output_type": "execute_result"
    }
   ],
   "source": [
    "iris, iris_y = datasets.load_iris(return_X_y=True, as_frame=True)\n",
    "iris.head()"
   ]
  },
  {
   "cell_type": "code",
   "execution_count": 35,
   "metadata": {},
   "outputs": [
    {
     "data": {
      "text/plain": [
       "0    50\n",
       "1    50\n",
       "2    50\n",
       "Name: target, dtype: int64"
      ]
     },
     "execution_count": 35,
     "metadata": {},
     "output_type": "execute_result"
    }
   ],
   "source": [
    "iris_y.value_counts()"
   ]
  },
  {
   "cell_type": "code",
   "execution_count": 36,
   "metadata": {},
   "outputs": [
    {
     "data": {
      "text/plain": [
       "<AxesSubplot:xlabel='target', ylabel='Count'>"
      ]
     },
     "execution_count": 36,
     "metadata": {},
     "output_type": "execute_result"
    },
    {
     "data": {
      "image/png": "[encoded data removed]",
      "text/plain": [
       "<Figure size 432x288 with 1 Axes>"
      ]
     },
     "metadata": {
      "needs_background": "light"
     },
     "output_type": "display_data"
    }
   ],
   "source": [
    "sns.histplot(iris_y)"
   ]
  },
  {
   "cell_type": "markdown",
   "metadata": {},
   "source": [
    "## Data exploration"
   ]
  },
  {
   "cell_type": "markdown",
   "metadata": {},
   "source": [
    "Ten krok ma na celu poznanie zależności pomiędzy zmiennymi objaśniającymi i zmienną objaśnianą, a także pomiędzy zmiennymi objaśniającymi.\n",
    "\n",
    "Możliwe operacje ([pomocne opracowanie z funkcjami sklearn](https://scikit-learn.org/stable/modules/preprocessing.html) ):\n",
    "- sprawdzenie które zmienne są numeryczne, kategoryczne\n",
    "- w przypadku zmiennych kategorycznych możliwe, że trzeba przeprowadzić zmianę kodowania np. preprocessing.OneHotEncoder\n",
    "- sprawdzenie korelacji pomiędzy kolumnami, możliwe że trzeba wyrzucić część zmiennych albo je zagregować w pewien sposób bo np. opisują tą samą wielkość ale w innym pukcie czasowym\n",
    "- sprawdzenie czy występują brakujące dane, ewentualne usunięcie takich obserwacji/kolumn, uzupełnienie braków\n",
    "- normalizacja kolumn\n",
    "- [selekcja zmiennych](https://scikit-learn.org/stable/modules/feature_selection.html) np. iteracyjne usuwanie zmiennych albo usunięcie zmienych o małej wariancji\n",
    "- zmniejszenie wymiaru danych np. [PCA](https://scikit-learn.org/stable/modules/generated/sklearn.decomposition.PCA.html#sklearn.decomposition.PCA)"
   ]
  },
  {
   "cell_type": "markdown",
   "metadata": {},
   "source": [
    "## Train and test split"
   ]
  },
  {
   "cell_type": "code",
   "execution_count": 8,
   "metadata": {},
   "outputs": [
    {
     "name": "stdout",
     "output_type": "stream",
     "text": [
      "X: \n",
      " [[0 1]\n",
      " [2 3]\n",
      " [4 5]\n",
      " [6 7]\n",
      " [8 9]]\n",
      "y:  [0, 1, 2, 3, 4]\n"
     ]
    }
   ],
   "source": [
    "from sklearn.model_selection import train_test_split\n",
    "X, y = np.arange(10).reshape((5, 2)), range(5)\n",
    "print('X: \\n', X)\n",
    "\n",
    "print('y: ', list(y))\n"
   ]
  },
  {
   "cell_type": "code",
   "execution_count": 9,
   "metadata": {},
   "outputs": [
    {
     "name": "stdout",
     "output_type": "stream",
     "text": [
      "X train: \n",
      " [[4 5]\n",
      " [0 1]\n",
      " [6 7]] \n",
      " y train: [2, 0, 3]\n",
      "X test: \n",
      " [[2 3]\n",
      " [8 9]] \n",
      " y train: [1, 4]\n"
     ]
    }
   ],
   "source": [
    "X_train, X_test, y_train, y_test = train_test_split(X, y, test_size=0.33, random_state=42)\n",
    "print('X train: \\n', X_train, '\\n y train:', y_train)\n",
    "print('X test: \\n', X_test, '\\n y train:', y_test)"
   ]
  },
  {
   "cell_type": "code",
   "execution_count": 10,
   "metadata": {},
   "outputs": [
    {
     "name": "stdout",
     "output_type": "stream",
     "text": [
      "Liczba obserwacji w zbiorze treningowym: 296\n",
      "Liczba obserwacji w zbiorze testowym: 146\n",
      "Liczba zmiennych w modelu: 10\n"
     ]
    }
   ],
   "source": [
    "## podział zbioru do regresji i klasyfikacji\n",
    "diabetes_X_train, diabetes_X_test, diabetes_y_train, diabetes_y_test = train_test_split(diabetes, diabetes_y, test_size=0.33, random_state=42)\n",
    "print('Liczba obserwacji w zbiorze treningowym:', diabetes_X_train.shape[0])\n",
    "print('Liczba obserwacji w zbiorze testowym:', diabetes_X_test.shape[0])\n",
    "\n",
    "print('Liczba zmiennych w modelu:', diabetes_X_train.shape[1])"
   ]
  },
  {
   "cell_type": "code",
   "execution_count": 11,
   "metadata": {},
   "outputs": [
    {
     "name": "stdout",
     "output_type": "stream",
     "text": [
      "Liczba obserwacji w zbiorze treningowym: 381\n",
      "Liczba obserwacji w zbiorze testowym: 188\n",
      "Liczba zmiennych w modelu: 30\n"
     ]
    }
   ],
   "source": [
    "cancer_X_train, cancer_X_test, cancer_y_train, cancer_y_test = train_test_split(breast_cancer, breast_cancer_y, test_size=0.33, random_state=42)\n",
    "print('Liczba obserwacji w zbiorze treningowym:', cancer_X_train.shape[0])\n",
    "print('Liczba obserwacji w zbiorze testowym:', cancer_X_test.shape[0])\n",
    "\n",
    "print('Liczba zmiennych w modelu:', cancer_X_train.shape[1])"
   ]
  },
  {
   "cell_type": "markdown",
   "metadata": {},
   "source": [
    "## Training ML models\n"
   ]
  },
  {
   "cell_type": "markdown",
   "metadata": {},
   "source": [
    "Algorytmy uczenia maszynowego znajdują zależności między zmiennymi objaśniającymi a zmienną objaśnianą, czyli pomiędzy `X` i `y`."
   ]
  },
  {
   "cell_type": "markdown",
   "metadata": {},
   "source": [
    "Proces uczenia - metoda `fit(X, y)` :\n",
    "1. Znalezienie zależności pomiędzy zmiennymi a `y`. Postać tej zależności jest zadana przez rodzaj wybranego algorytmu.\n",
    "2. Algorytm ocenia jakość znalezionej zależności poprzez funkcję celu.\n",
    "3. (Zależne od algorytmu i iteracyjne) Algorytm na podstawie uzyskanej informacji o błędzie wprowadza poprawki do etapu szukania zależności i powtarza krok 1. i 2.\n",
    "\n",
    "Proces predykcji dla nowych danych - metoda `predict(X)`.\n"
   ]
  },
  {
   "cell_type": "markdown",
   "metadata": {},
   "source": [
    "![models_comparison](https://scikit-learn.org/stable/_images/sphx_glr_plot_classifier_comparison_001.png)"
   ]
  },
  {
   "cell_type": "markdown",
   "metadata": {},
   "source": [
    "## Modele liniowe\n",
    "\n",
    "Zakładamy, że zmienną objaśnianą możemy wyrazić jako funkcję $f$ kombinacji liniowejzmiennych objaśnianych.\n",
    "\n",
    "$$ y_i = f(\\alpha + \\beta_1 x_{i1} + \\beta_2 x_{i2} + \\ldots + \\beta_p x_{ip}) $$\n",
    "\n",
    "W zapisie macierzowym $ y = f( \\textbf{\\beta} X  + \\alpha )$.\n",
    "\n",
    "Funkcja f może mieć różną postać najczęściej to f jest funkcją identycznościową albo funkcja logistyczna."
   ]
  },
  {
   "cell_type": "markdown",
   "metadata": {},
   "source": [
    "\n",
    "### Regresja liniowa\n",
    "\n",
    "\n",
    "Wykorzystywana w problemach regresji, szczególnie tam gdzie nie ma nałożonych ograniczeń na wartość predykc\n",
    "\n",
    "$$ y_i = \\alpha + \\beta_1 x_{i1} + \\beta_2 x_{i2} + \\ldots + \\beta_p x_{ip} $$\n"
   ]
  },
  {
   "cell_type": "code",
   "execution_count": 66,
   "metadata": {},
   "outputs": [
    {
     "data": {
      "text/plain": [
       "<matplotlib.collections.PathCollection at 0x7fbea25f26a0>"
      ]
     },
     "execution_count": 66,
     "metadata": {},
     "output_type": "execute_result"
    },
    {
     "data": {
      "image/png": "[encoded data removed]",
      "text/plain": [
       "<Figure size 432x288 with 1 Axes>"
      ]
     },
     "metadata": {
      "needs_background": "light"
     },
     "output_type": "display_data"
    }
   ],
   "source": [
    "from sklearn.linear_model import LinearRegression\n",
    "\n",
    "diabetes_one_col = pd.DataFrame(diabetes_X_train.iloc[:,2])\n",
    "plt.scatter(diabetes_one_col, diabetes_y_train)"
   ]
  },
  {
   "cell_type": "code",
   "execution_count": 67,
   "metadata": {},
   "outputs": [
    {
     "data": {
      "text/plain": [
       "LinearRegression()"
      ]
     },
     "execution_count": 67,
     "metadata": {},
     "output_type": "execute_result"
    }
   ],
   "source": [
    "regr = LinearRegression(fit_intercept=True)\n",
    "regr.fit(diabetes_one_col, diabetes_y)"
   ]
  },
  {
   "cell_type": "code",
   "execution_count": 68,
   "metadata": {},
   "outputs": [
    {
     "name": "stdout",
     "output_type": "stream",
     "text": [
      "Coefficients: \n",
      " [949.43526038]\n"
     ]
    }
   ],
   "source": [
    "print('Coefficients: \\n', regr.coef_)"
   ]
  },
  {
   "cell_type": "code",
   "execution_count": 71,
   "metadata": {},
   "outputs": [
    {
     "data": {
      "text/plain": [
       "(array([32., 66., 98., 90., 64., 50., 23., 12.,  5.,  2.]),\n",
       " array([ 66.4229351 ,  91.18710454, 115.95127399, 140.71544343,\n",
       "        165.47961288, 190.24378232, 215.00795177, 239.77212121,\n",
       "        264.53629066, 289.30046011, 314.06462955]),\n",
       " <BarContainer object of 10 artists>)"
      ]
     },
     "execution_count": 71,
     "metadata": {},
     "output_type": "execute_result"
    },
    {
     "data": {
      "image/png": "[encoded data removed]",
      "text/plain": [
       "<Figure size 432x288 with 1 Axes>"
      ]
     },
     "metadata": {
      "needs_background": "light"
     },
     "output_type": "display_data"
    }
   ],
   "source": [
    "pred_diabetes_y = regr.predict(pd.DataFrame(diabetes_one_col))\n",
    "plt.hist(pred_diabetes_y)"
   ]
  },
  {
   "cell_type": "code",
   "execution_count": 74,
   "metadata": {},
   "outputs": [
    {
     "data": {
      "image/png": "[encoded data removed]",
      "text/plain": [
       "<Figure size 432x288 with 1 Axes>"
      ]
     },
     "metadata": {
      "needs_background": "light"
     },
     "output_type": "display_data"
    }
   ],
   "source": [
    "plt.scatter(diabetes_one_col, diabetes_y,  color='black')\n",
    "plt.plot(diabetes_one_col, pred_diabetes_y, color='blue', linewidth=3)\n",
    "\n",
    "\n",
    "plt.show()"
   ]
  },
  {
   "cell_type": "markdown",
   "metadata": {},
   "source": [
    "### regresja dla większej liczby zmiennych"
   ]
  },
  {
   "cell_type": "code",
   "execution_count": 82,
   "metadata": {},
   "outputs": [
    {
     "name": "stdout",
     "output_type": "stream",
     "text": [
      "Coeffifients: [  32.14567288 -242.82582016  559.98738213  407.64166457 -718.68703857\n",
      "  396.63010925   10.42304776  171.81177553  627.07976426  -21.62420711]\n",
      "Intercept: 150.4339752023493\n"
     ]
    }
   ],
   "source": [
    "regr_multi = LinearRegression()\n",
    "regr_multi.fit(diabetes_X_train, diabetes_y_train)\n",
    "print('Coeffifients:', regr_multi.coef_)\n",
    "print('Intercept:', regr_multi.intercept_)"
   ]
  },
  {
   "cell_type": "markdown",
   "metadata": {},
   "source": [
    "### Ridge i LASSO\n",
    "\n",
    "Zwykła regresja liniowa nie zależy od żadnych hiperparametrów wejściowych.\n",
    "\n",
    "Istnieją warianty regresji liniowej związane z regularyzacją (kontrolą wielkości współczynników) i selekcją zmiennych - [Ridge](https://scikit-learn.org/stable/modules/generated/sklearn.linear_model.Ridge.html#sklearn.linear_model.Ridge) i [LASSO](https://scikit-learn.org/stable/modules/generated/sklearn.linear_model.Lasso.html#sklearn.linear_model.Lasso). \n",
    "\n",
    "Ridge powoduje *ściąganie współczynników do zera* a LASSO *wybiera* zmienne.\n",
    "Moc regularyzacji zależy od hiperparametru `alpha`.\n",
    "\n",
    "\n",
    "Algorytm regresji liniowej [`ElasticNet`](https://scikit-learn.org/stable/modules/generated/sklearn.linear_model.ElasticNet.html#sklearn.linear_model.ElasticNet) \n",
    "jest kombinacją Ridge + LASSO i zależy od dwóch hiperparametrów `alpha` i `l1_ratio`.\n"
   ]
  },
  {
   "cell_type": "markdown",
   "metadata": {},
   "source": [
    "### Regresja logistyczna\n",
    "\n",
    "Najbardziej tradycyjne podejście do problemu klasyfikacji.\n",
    "\n"
   ]
  },
  {
   "cell_type": "code",
   "execution_count": 84,
   "metadata": {},
   "outputs": [
    {
     "data": {
      "text/plain": [
       "<AxesSubplot:xlabel='target', ylabel='Count'>"
      ]
     },
     "execution_count": 84,
     "metadata": {},
     "output_type": "execute_result"
    },
    {
     "data": {
      "image/png": "[encoded data removed]",
      "text/plain": [
       "<Figure size 432x288 with 1 Axes>"
      ]
     },
     "metadata": {
      "needs_background": "light"
     },
     "output_type": "display_data"
    }
   ],
   "source": [
    "sns.histplot(breast_cancer_y)"
   ]
  },
  {
   "cell_type": "markdown",
   "metadata": {},
   "source": [
    "Jedną z motywacji jest to, że chcemy przewidzieć prawdopodobieństwo przynależności do klasy 1 zatem predykcja modelu powinna spełniać $0 \\leq f(x) \\leq 1$.\n",
    "\n",
    "Jednym z przykładów funkcji, która spełnia takie ograniczenie jest funkcja logistyczna\n",
    "$$ f(x) = \\frac{e^x}{1+e^x}$$"
   ]
  },
  {
   "cell_type": "code",
   "execution_count": 6,
   "metadata": {},
   "outputs": [
    {
     "data": {
      "image/png": "[encoded data removed]",
      "image/svg+xml": [
       "<?xml version=\"1.0\" encoding=\"utf-8\" standalone=\"no\"?>\n",
       "<!DOCTYPE svg PUBLIC \"-//W3C//DTD SVG 1.1//EN\"\n",
       "  \"http://www.w3.org/Graphics/SVG/1.1/DTD/svg11.dtd\">\n",
       "<!-- Created with matplotlib (https://matplotlib.org/) -->\n",
       "<svg height=\"248.518125pt\" version=\"1.1\" viewBox=\"0 0 372.103125 248.518125\" width=\"372.103125pt\" xmlns=\"http://www.w3.org/2000/svg\" xmlns:xlink=\"http://www.w3.org/1999/xlink\">\n",
       " <metadata>\n",
       "  <rdf:RDF xmlns:cc=\"http://creativecommons.org/ns#\" xmlns:dc=\"http://purl.org/dc/elements/1.1/\" xmlns:rdf=\"http://www.w3.org/1999/02/22-rdf-syntax-ns#\">\n",
       "   <cc:Work>\n",
       "    <dc:type rdf:resource=\"http://purl.org/dc/dcmitype/StillImage\"/>\n",
       "    <dc:date>2021-03-03T15:15:28.909020</dc:date>\n",
       "    <dc:format>image/svg+xml</dc:format>\n",
       "    <dc:creator>\n",
       "     <cc:Agent>\n",
       "      <dc:title>Matplotlib v3.3.2, https://matplotlib.org/</dc:title>\n",
       "     </cc:Agent>\n",
       "    </dc:creator>\n",
       "   </cc:Work>\n",
       "  </rdf:RDF>\n",
       " </metadata>\n",
       " <defs>\n",
       "  <style type=\"text/css\">*{stroke-linecap:butt;stroke-linejoin:round;}</style>\n",
       " </defs>\n",
       " <g id=\"figure_1\">\n",
       "  <g id=\"patch_1\">\n",
       "   <path d=\"M 0 248.518125 \n",
       "L 372.103125 248.518125 \n",
       "L 372.103125 0 \n",
       "L 0 0 \n",
       "z\n",
       "\" style=\"fill:none;\"/>\n",
       "  </g>\n",
       "  <g id=\"axes_1\">\n",
       "   <g id=\"patch_2\">\n",
       "    <path d=\"M 30.103125 224.64 \n",
       "L 364.903125 224.64 \n",
       "L 364.903125 7.2 \n",
       "L 30.103125 7.2 \n",
       "z\n",
       "\" style=\"fill:#ffffff;\"/>\n",
       "   </g>\n",
       "   <g id=\"matplotlib.axis_1\">\n",
       "    <g id=\"xtick_1\">\n",
       "     <g id=\"line2d_1\">\n",
       "      <defs>\n",
       "       <path d=\"M 0 0 \n",
       "L 0 3.5 \n",
       "\" id=\"m38b8e770a3\" style=\"stroke:#000000;stroke-width:0.8;\"/>\n",
       "      </defs>\n",
       "      <g>\n",
       "       <use style=\"stroke:#000000;stroke-width:0.8;\" x=\"45.321307\" xlink:href=\"#m38b8e770a3\" y=\"224.64\"/>\n",
       "      </g>\n",
       "     </g>\n",
       "     <g id=\"text_1\">\n",
       "      <!-- −10.0 -->\n",
       "      <g transform=\"translate(29.998651 239.238437)scale(0.1 -0.1)\">\n",
       "       <defs>\n",
       "        <path d=\"M 10.59375 35.5 \n",
       "L 73.1875 35.5 \n",
       "L 73.1875 27.203125 \n",
       "L 10.59375 27.203125 \n",
       "z\n",
       "\" id=\"DejaVuSans-8722\"/>\n",
       "        <path d=\"M 12.40625 8.296875 \n",
       "L 28.515625 8.296875 \n",
       "L 28.515625 63.921875 \n",
       "L 10.984375 60.40625 \n",
       "L 10.984375 69.390625 \n",
       "L 28.421875 72.90625 \n",
       "L 38.28125 72.90625 \n",
       "L 38.28125 8.296875 \n",
       "L 54.390625 8.296875 \n",
       "L 54.390625 0 \n",
       "L 12.40625 0 \n",
       "z\n",
       "\" id=\"DejaVuSans-49\"/>\n",
       "        <path d=\"M 31.78125 66.40625 \n",
       "Q 24.171875 66.40625 20.328125 58.90625 \n",
       "Q 16.5 51.421875 16.5 36.375 \n",
       "Q 16.5 21.390625 20.328125 13.890625 \n",
       "Q 24.171875 6.390625 31.78125 6.390625 \n",
       "Q 39.453125 6.390625 43.28125 13.890625 \n",
       "Q 47.125 21.390625 47.125 36.375 \n",
       "Q 47.125 51.421875 43.28125 58.90625 \n",
       "Q 39.453125 66.40625 31.78125 66.40625 \n",
       "z\n",
       "M 31.78125 74.21875 \n",
       "Q 44.046875 74.21875 50.515625 64.515625 \n",
       "Q 56.984375 54.828125 56.984375 36.375 \n",
       "Q 56.984375 17.96875 50.515625 8.265625 \n",
       "Q 44.046875 -1.421875 31.78125 -1.421875 \n",
       "Q 19.53125 -1.421875 13.0625 8.265625 \n",
       "Q 6.59375 17.96875 6.59375 36.375 \n",
       "Q 6.59375 54.828125 13.0625 64.515625 \n",
       "Q 19.53125 74.21875 31.78125 74.21875 \n",
       "z\n",
       "\" id=\"DejaVuSans-48\"/>\n",
       "        <path d=\"M 10.6875 12.40625 \n",
       "L 21 12.40625 \n",
       "L 21 0 \n",
       "L 10.6875 0 \n",
       "z\n",
       "\" id=\"DejaVuSans-46\"/>\n",
       "       </defs>\n",
       "       <use xlink:href=\"#DejaVuSans-8722\"/>\n",
       "       <use x=\"83.789062\" xlink:href=\"#DejaVuSans-49\"/>\n",
       "       <use x=\"147.412109\" xlink:href=\"#DejaVuSans-48\"/>\n",
       "       <use x=\"211.035156\" xlink:href=\"#DejaVuSans-46\"/>\n",
       "       <use x=\"242.822266\" xlink:href=\"#DejaVuSans-48\"/>\n",
       "      </g>\n",
       "     </g>\n",
       "    </g>\n",
       "    <g id=\"xtick_2\">\n",
       "     <g id=\"line2d_2\">\n",
       "      <g>\n",
       "       <use style=\"stroke:#000000;stroke-width:0.8;\" x=\"83.366761\" xlink:href=\"#m38b8e770a3\" y=\"224.64\"/>\n",
       "      </g>\n",
       "     </g>\n",
       "     <g id=\"text_2\">\n",
       "      <!-- −7.5 -->\n",
       "      <g transform=\"translate(71.225355 239.238437)scale(0.1 -0.1)\">\n",
       "       <defs>\n",
       "        <path d=\"M 8.203125 72.90625 \n",
       "L 55.078125 72.90625 \n",
       "L 55.078125 68.703125 \n",
       "L 28.609375 0 \n",
       "L 18.3125 0 \n",
       "L 43.21875 64.59375 \n",
       "L 8.203125 64.59375 \n",
       "z\n",
       "\" id=\"DejaVuSans-55\"/>\n",
       "        <path d=\"M 10.796875 72.90625 \n",
       "L 49.515625 72.90625 \n",
       "L 49.515625 64.59375 \n",
       "L 19.828125 64.59375 \n",
       "L 19.828125 46.734375 \n",
       "Q 21.96875 47.46875 24.109375 47.828125 \n",
       "Q 26.265625 48.1875 28.421875 48.1875 \n",
       "Q 40.625 48.1875 47.75 41.5 \n",
       "Q 54.890625 34.8125 54.890625 23.390625 \n",
       "Q 54.890625 11.625 47.5625 5.09375 \n",
       "Q 40.234375 -1.421875 26.90625 -1.421875 \n",
       "Q 22.3125 -1.421875 17.546875 -0.640625 \n",
       "Q 12.796875 0.140625 7.71875 1.703125 \n",
       "L 7.71875 11.625 \n",
       "Q 12.109375 9.234375 16.796875 8.0625 \n",
       "Q 21.484375 6.890625 26.703125 6.890625 \n",
       "Q 35.15625 6.890625 40.078125 11.328125 \n",
       "Q 45.015625 15.765625 45.015625 23.390625 \n",
       "Q 45.015625 31 40.078125 35.4375 \n",
       "Q 35.15625 39.890625 26.703125 39.890625 \n",
       "Q 22.75 39.890625 18.8125 39.015625 \n",
       "Q 14.890625 38.140625 10.796875 36.28125 \n",
       "z\n",
       "\" id=\"DejaVuSans-53\"/>\n",
       "       </defs>\n",
       "       <use xlink:href=\"#DejaVuSans-8722\"/>\n",
       "       <use x=\"83.789062\" xlink:href=\"#DejaVuSans-55\"/>\n",
       "       <use x=\"147.412109\" xlink:href=\"#DejaVuSans-46\"/>\n",
       "       <use x=\"179.199219\" xlink:href=\"#DejaVuSans-53\"/>\n",
       "      </g>\n",
       "     </g>\n",
       "    </g>\n",
       "    <g id=\"xtick_3\">\n",
       "     <g id=\"line2d_3\">\n",
       "      <g>\n",
       "       <use style=\"stroke:#000000;stroke-width:0.8;\" x=\"121.412216\" xlink:href=\"#m38b8e770a3\" y=\"224.64\"/>\n",
       "      </g>\n",
       "     </g>\n",
       "     <g id=\"text_3\">\n",
       "      <!-- −5.0 -->\n",
       "      <g transform=\"translate(109.27081 239.238437)scale(0.1 -0.1)\">\n",
       "       <use xlink:href=\"#DejaVuSans-8722\"/>\n",
       "       <use x=\"83.789062\" xlink:href=\"#DejaVuSans-53\"/>\n",
       "       <use x=\"147.412109\" xlink:href=\"#DejaVuSans-46\"/>\n",
       "       <use x=\"179.199219\" xlink:href=\"#DejaVuSans-48\"/>\n",
       "      </g>\n",
       "     </g>\n",
       "    </g>\n",
       "    <g id=\"xtick_4\">\n",
       "     <g id=\"line2d_4\">\n",
       "      <g>\n",
       "       <use style=\"stroke:#000000;stroke-width:0.8;\" x=\"159.45767\" xlink:href=\"#m38b8e770a3\" y=\"224.64\"/>\n",
       "      </g>\n",
       "     </g>\n",
       "     <g id=\"text_4\">\n",
       "      <!-- −2.5 -->\n",
       "      <g transform=\"translate(147.316264 239.238437)scale(0.1 -0.1)\">\n",
       "       <defs>\n",
       "        <path d=\"M 19.1875 8.296875 \n",
       "L 53.609375 8.296875 \n",
       "L 53.609375 0 \n",
       "L 7.328125 0 \n",
       "L 7.328125 8.296875 \n",
       "Q 12.9375 14.109375 22.625 23.890625 \n",
       "Q 32.328125 33.6875 34.8125 36.53125 \n",
       "Q 39.546875 41.84375 41.421875 45.53125 \n",
       "Q 43.3125 49.21875 43.3125 52.78125 \n",
       "Q 43.3125 58.59375 39.234375 62.25 \n",
       "Q 35.15625 65.921875 28.609375 65.921875 \n",
       "Q 23.96875 65.921875 18.8125 64.3125 \n",
       "Q 13.671875 62.703125 7.8125 59.421875 \n",
       "L 7.8125 69.390625 \n",
       "Q 13.765625 71.78125 18.9375 73 \n",
       "Q 24.125 74.21875 28.421875 74.21875 \n",
       "Q 39.75 74.21875 46.484375 68.546875 \n",
       "Q 53.21875 62.890625 53.21875 53.421875 \n",
       "Q 53.21875 48.921875 51.53125 44.890625 \n",
       "Q 49.859375 40.875 45.40625 35.40625 \n",
       "Q 44.1875 33.984375 37.640625 27.21875 \n",
       "Q 31.109375 20.453125 19.1875 8.296875 \n",
       "z\n",
       "\" id=\"DejaVuSans-50\"/>\n",
       "       </defs>\n",
       "       <use xlink:href=\"#DejaVuSans-8722\"/>\n",
       "       <use x=\"83.789062\" xlink:href=\"#DejaVuSans-50\"/>\n",
       "       <use x=\"147.412109\" xlink:href=\"#DejaVuSans-46\"/>\n",
       "       <use x=\"179.199219\" xlink:href=\"#DejaVuSans-53\"/>\n",
       "      </g>\n",
       "     </g>\n",
       "    </g>\n",
       "    <g id=\"xtick_5\">\n",
       "     <g id=\"line2d_5\">\n",
       "      <g>\n",
       "       <use style=\"stroke:#000000;stroke-width:0.8;\" x=\"197.503125\" xlink:href=\"#m38b8e770a3\" y=\"224.64\"/>\n",
       "      </g>\n",
       "     </g>\n",
       "     <g id=\"text_5\">\n",
       "      <!-- 0.0 -->\n",
       "      <g transform=\"translate(189.551563 239.238437)scale(0.1 -0.1)\">\n",
       "       <use xlink:href=\"#DejaVuSans-48\"/>\n",
       "       <use x=\"63.623047\" xlink:href=\"#DejaVuSans-46\"/>\n",
       "       <use x=\"95.410156\" xlink:href=\"#DejaVuSans-48\"/>\n",
       "      </g>\n",
       "     </g>\n",
       "    </g>\n",
       "    <g id=\"xtick_6\">\n",
       "     <g id=\"line2d_6\">\n",
       "      <g>\n",
       "       <use style=\"stroke:#000000;stroke-width:0.8;\" x=\"235.54858\" xlink:href=\"#m38b8e770a3\" y=\"224.64\"/>\n",
       "      </g>\n",
       "     </g>\n",
       "     <g id=\"text_6\">\n",
       "      <!-- 2.5 -->\n",
       "      <g transform=\"translate(227.597017 239.238437)scale(0.1 -0.1)\">\n",
       "       <use xlink:href=\"#DejaVuSans-50\"/>\n",
       "       <use x=\"63.623047\" xlink:href=\"#DejaVuSans-46\"/>\n",
       "       <use x=\"95.410156\" xlink:href=\"#DejaVuSans-53\"/>\n",
       "      </g>\n",
       "     </g>\n",
       "    </g>\n",
       "    <g id=\"xtick_7\">\n",
       "     <g id=\"line2d_7\">\n",
       "      <g>\n",
       "       <use style=\"stroke:#000000;stroke-width:0.8;\" x=\"273.594034\" xlink:href=\"#m38b8e770a3\" y=\"224.64\"/>\n",
       "      </g>\n",
       "     </g>\n",
       "     <g id=\"text_7\">\n",
       "      <!-- 5.0 -->\n",
       "      <g transform=\"translate(265.642472 239.238437)scale(0.1 -0.1)\">\n",
       "       <use xlink:href=\"#DejaVuSans-53\"/>\n",
       "       <use x=\"63.623047\" xlink:href=\"#DejaVuSans-46\"/>\n",
       "       <use x=\"95.410156\" xlink:href=\"#DejaVuSans-48\"/>\n",
       "      </g>\n",
       "     </g>\n",
       "    </g>\n",
       "    <g id=\"xtick_8\">\n",
       "     <g id=\"line2d_8\">\n",
       "      <g>\n",
       "       <use style=\"stroke:#000000;stroke-width:0.8;\" x=\"311.639489\" xlink:href=\"#m38b8e770a3\" y=\"224.64\"/>\n",
       "      </g>\n",
       "     </g>\n",
       "     <g id=\"text_8\">\n",
       "      <!-- 7.5 -->\n",
       "      <g transform=\"translate(303.687926 239.238437)scale(0.1 -0.1)\">\n",
       "       <use xlink:href=\"#DejaVuSans-55\"/>\n",
       "       <use x=\"63.623047\" xlink:href=\"#DejaVuSans-46\"/>\n",
       "       <use x=\"95.410156\" xlink:href=\"#DejaVuSans-53\"/>\n",
       "      </g>\n",
       "     </g>\n",
       "    </g>\n",
       "    <g id=\"xtick_9\">\n",
       "     <g id=\"line2d_9\">\n",
       "      <g>\n",
       "       <use style=\"stroke:#000000;stroke-width:0.8;\" x=\"349.684943\" xlink:href=\"#m38b8e770a3\" y=\"224.64\"/>\n",
       "      </g>\n",
       "     </g>\n",
       "     <g id=\"text_9\">\n",
       "      <!-- 10.0 -->\n",
       "      <g transform=\"translate(338.552131 239.238437)scale(0.1 -0.1)\">\n",
       "       <use xlink:href=\"#DejaVuSans-49\"/>\n",
       "       <use x=\"63.623047\" xlink:href=\"#DejaVuSans-48\"/>\n",
       "       <use x=\"127.246094\" xlink:href=\"#DejaVuSans-46\"/>\n",
       "       <use x=\"159.033203\" xlink:href=\"#DejaVuSans-48\"/>\n",
       "      </g>\n",
       "     </g>\n",
       "    </g>\n",
       "   </g>\n",
       "   <g id=\"matplotlib.axis_2\">\n",
       "    <g id=\"ytick_1\">\n",
       "     <g id=\"line2d_10\">\n",
       "      <defs>\n",
       "       <path d=\"M 0 0 \n",
       "L -3.5 0 \n",
       "\" id=\"m87240930a4\" style=\"stroke:#000000;stroke-width:0.8;\"/>\n",
       "      </defs>\n",
       "      <g>\n",
       "       <use style=\"stroke:#000000;stroke-width:0.8;\" x=\"30.103125\" xlink:href=\"#m87240930a4\" y=\"214.765338\"/>\n",
       "      </g>\n",
       "     </g>\n",
       "     <g id=\"text_10\">\n",
       "      <!-- 0.0 -->\n",
       "      <g transform=\"translate(7.2 218.564557)scale(0.1 -0.1)\">\n",
       "       <use xlink:href=\"#DejaVuSans-48\"/>\n",
       "       <use x=\"63.623047\" xlink:href=\"#DejaVuSans-46\"/>\n",
       "       <use x=\"95.410156\" xlink:href=\"#DejaVuSans-48\"/>\n",
       "      </g>\n",
       "     </g>\n",
       "    </g>\n",
       "    <g id=\"ytick_2\">\n",
       "     <g id=\"line2d_11\">\n",
       "      <g>\n",
       "       <use style=\"stroke:#000000;stroke-width:0.8;\" x=\"30.103125\" xlink:href=\"#m87240930a4\" y=\"175.227203\"/>\n",
       "      </g>\n",
       "     </g>\n",
       "     <g id=\"text_11\">\n",
       "      <!-- 0.2 -->\n",
       "      <g transform=\"translate(7.2 179.026422)scale(0.1 -0.1)\">\n",
       "       <use xlink:href=\"#DejaVuSans-48\"/>\n",
       "       <use x=\"63.623047\" xlink:href=\"#DejaVuSans-46\"/>\n",
       "       <use x=\"95.410156\" xlink:href=\"#DejaVuSans-50\"/>\n",
       "      </g>\n",
       "     </g>\n",
       "    </g>\n",
       "    <g id=\"ytick_3\">\n",
       "     <g id=\"line2d_12\">\n",
       "      <g>\n",
       "       <use style=\"stroke:#000000;stroke-width:0.8;\" x=\"30.103125\" xlink:href=\"#m87240930a4\" y=\"135.689068\"/>\n",
       "      </g>\n",
       "     </g>\n",
       "     <g id=\"text_12\">\n",
       "      <!-- 0.4 -->\n",
       "      <g transform=\"translate(7.2 139.488286)scale(0.1 -0.1)\">\n",
       "       <defs>\n",
       "        <path d=\"M 37.796875 64.3125 \n",
       "L 12.890625 25.390625 \n",
       "L 37.796875 25.390625 \n",
       "z\n",
       "M 35.203125 72.90625 \n",
       "L 47.609375 72.90625 \n",
       "L 47.609375 25.390625 \n",
       "L 58.015625 25.390625 \n",
       "L 58.015625 17.1875 \n",
       "L 47.609375 17.1875 \n",
       "L 47.609375 0 \n",
       "L 37.796875 0 \n",
       "L 37.796875 17.1875 \n",
       "L 4.890625 17.1875 \n",
       "L 4.890625 26.703125 \n",
       "z\n",
       "\" id=\"DejaVuSans-52\"/>\n",
       "       </defs>\n",
       "       <use xlink:href=\"#DejaVuSans-48\"/>\n",
       "       <use x=\"63.623047\" xlink:href=\"#DejaVuSans-46\"/>\n",
       "       <use x=\"95.410156\" xlink:href=\"#DejaVuSans-52\"/>\n",
       "      </g>\n",
       "     </g>\n",
       "    </g>\n",
       "    <g id=\"ytick_4\">\n",
       "     <g id=\"line2d_13\">\n",
       "      <g>\n",
       "       <use style=\"stroke:#000000;stroke-width:0.8;\" x=\"30.103125\" xlink:href=\"#m87240930a4\" y=\"96.150932\"/>\n",
       "      </g>\n",
       "     </g>\n",
       "     <g id=\"text_13\">\n",
       "      <!-- 0.6 -->\n",
       "      <g transform=\"translate(7.2 99.950151)scale(0.1 -0.1)\">\n",
       "       <defs>\n",
       "        <path d=\"M 33.015625 40.375 \n",
       "Q 26.375 40.375 22.484375 35.828125 \n",
       "Q 18.609375 31.296875 18.609375 23.390625 \n",
       "Q 18.609375 15.53125 22.484375 10.953125 \n",
       "Q 26.375 6.390625 33.015625 6.390625 \n",
       "Q 39.65625 6.390625 43.53125 10.953125 \n",
       "Q 47.40625 15.53125 47.40625 23.390625 \n",
       "Q 47.40625 31.296875 43.53125 35.828125 \n",
       "Q 39.65625 40.375 33.015625 40.375 \n",
       "z\n",
       "M 52.59375 71.296875 \n",
       "L 52.59375 62.3125 \n",
       "Q 48.875 64.0625 45.09375 64.984375 \n",
       "Q 41.3125 65.921875 37.59375 65.921875 \n",
       "Q 27.828125 65.921875 22.671875 59.328125 \n",
       "Q 17.53125 52.734375 16.796875 39.40625 \n",
       "Q 19.671875 43.65625 24.015625 45.921875 \n",
       "Q 28.375 48.1875 33.59375 48.1875 \n",
       "Q 44.578125 48.1875 50.953125 41.515625 \n",
       "Q 57.328125 34.859375 57.328125 23.390625 \n",
       "Q 57.328125 12.15625 50.6875 5.359375 \n",
       "Q 44.046875 -1.421875 33.015625 -1.421875 \n",
       "Q 20.359375 -1.421875 13.671875 8.265625 \n",
       "Q 6.984375 17.96875 6.984375 36.375 \n",
       "Q 6.984375 53.65625 15.1875 63.9375 \n",
       "Q 23.390625 74.21875 37.203125 74.21875 \n",
       "Q 40.921875 74.21875 44.703125 73.484375 \n",
       "Q 48.484375 72.75 52.59375 71.296875 \n",
       "z\n",
       "\" id=\"DejaVuSans-54\"/>\n",
       "       </defs>\n",
       "       <use xlink:href=\"#DejaVuSans-48\"/>\n",
       "       <use x=\"63.623047\" xlink:href=\"#DejaVuSans-46\"/>\n",
       "       <use x=\"95.410156\" xlink:href=\"#DejaVuSans-54\"/>\n",
       "      </g>\n",
       "     </g>\n",
       "    </g>\n",
       "    <g id=\"ytick_5\">\n",
       "     <g id=\"line2d_14\">\n",
       "      <g>\n",
       "       <use style=\"stroke:#000000;stroke-width:0.8;\" x=\"30.103125\" xlink:href=\"#m87240930a4\" y=\"56.612797\"/>\n",
       "      </g>\n",
       "     </g>\n",
       "     <g id=\"text_14\">\n",
       "      <!-- 0.8 -->\n",
       "      <g transform=\"translate(7.2 60.412016)scale(0.1 -0.1)\">\n",
       "       <defs>\n",
       "        <path d=\"M 31.78125 34.625 \n",
       "Q 24.75 34.625 20.71875 30.859375 \n",
       "Q 16.703125 27.09375 16.703125 20.515625 \n",
       "Q 16.703125 13.921875 20.71875 10.15625 \n",
       "Q 24.75 6.390625 31.78125 6.390625 \n",
       "Q 38.8125 6.390625 42.859375 10.171875 \n",
       "Q 46.921875 13.96875 46.921875 20.515625 \n",
       "Q 46.921875 27.09375 42.890625 30.859375 \n",
       "Q 38.875 34.625 31.78125 34.625 \n",
       "z\n",
       "M 21.921875 38.8125 \n",
       "Q 15.578125 40.375 12.03125 44.71875 \n",
       "Q 8.5 49.078125 8.5 55.328125 \n",
       "Q 8.5 64.0625 14.71875 69.140625 \n",
       "Q 20.953125 74.21875 31.78125 74.21875 \n",
       "Q 42.671875 74.21875 48.875 69.140625 \n",
       "Q 55.078125 64.0625 55.078125 55.328125 \n",
       "Q 55.078125 49.078125 51.53125 44.71875 \n",
       "Q 48 40.375 41.703125 38.8125 \n",
       "Q 48.828125 37.15625 52.796875 32.3125 \n",
       "Q 56.78125 27.484375 56.78125 20.515625 \n",
       "Q 56.78125 9.90625 50.3125 4.234375 \n",
       "Q 43.84375 -1.421875 31.78125 -1.421875 \n",
       "Q 19.734375 -1.421875 13.25 4.234375 \n",
       "Q 6.78125 9.90625 6.78125 20.515625 \n",
       "Q 6.78125 27.484375 10.78125 32.3125 \n",
       "Q 14.796875 37.15625 21.921875 38.8125 \n",
       "z\n",
       "M 18.3125 54.390625 \n",
       "Q 18.3125 48.734375 21.84375 45.5625 \n",
       "Q 25.390625 42.390625 31.78125 42.390625 \n",
       "Q 38.140625 42.390625 41.71875 45.5625 \n",
       "Q 45.3125 48.734375 45.3125 54.390625 \n",
       "Q 45.3125 60.0625 41.71875 63.234375 \n",
       "Q 38.140625 66.40625 31.78125 66.40625 \n",
       "Q 25.390625 66.40625 21.84375 63.234375 \n",
       "Q 18.3125 60.0625 18.3125 54.390625 \n",
       "z\n",
       "\" id=\"DejaVuSans-56\"/>\n",
       "       </defs>\n",
       "       <use xlink:href=\"#DejaVuSans-48\"/>\n",
       "       <use x=\"63.623047\" xlink:href=\"#DejaVuSans-46\"/>\n",
       "       <use x=\"95.410156\" xlink:href=\"#DejaVuSans-56\"/>\n",
       "      </g>\n",
       "     </g>\n",
       "    </g>\n",
       "    <g id=\"ytick_6\">\n",
       "     <g id=\"line2d_15\">\n",
       "      <g>\n",
       "       <use style=\"stroke:#000000;stroke-width:0.8;\" x=\"30.103125\" xlink:href=\"#m87240930a4\" y=\"17.074662\"/>\n",
       "      </g>\n",
       "     </g>\n",
       "     <g id=\"text_15\">\n",
       "      <!-- 1.0 -->\n",
       "      <g transform=\"translate(7.2 20.87388)scale(0.1 -0.1)\">\n",
       "       <use xlink:href=\"#DejaVuSans-49\"/>\n",
       "       <use x=\"63.623047\" xlink:href=\"#DejaVuSans-46\"/>\n",
       "       <use x=\"95.410156\" xlink:href=\"#DejaVuSans-48\"/>\n",
       "      </g>\n",
       "     </g>\n",
       "    </g>\n",
       "   </g>\n",
       "   <g id=\"line2d_16\">\n",
       "    <path clip-path=\"url(#pfb825818fe)\" d=\"M 45.321307 214.756364 \n",
       "L 60.539489 214.740944 \n",
       "L 75.75767 214.699043 \n",
       "L 90.975852 214.585232 \n",
       "L 106.194034 214.276524 \n",
       "L 121.412216 213.442224 \n",
       "L 136.630398 211.209632 \n",
       "L 151.84858 205.389685 \n",
       "L 167.066761 191.200032 \n",
       "L 182.284943 161.598127 \n",
       "L 197.503125 115.92 \n",
       "L 212.721307 70.241873 \n",
       "L 227.939489 40.639968 \n",
       "L 243.15767 26.450315 \n",
       "L 258.375852 20.630368 \n",
       "L 273.594034 18.397776 \n",
       "L 288.812216 17.563476 \n",
       "L 304.030398 17.254768 \n",
       "L 319.24858 17.140957 \n",
       "L 334.466761 17.099056 \n",
       "L 349.684943 17.083636 \n",
       "\" style=\"fill:none;stroke:#1f77b4;stroke-linecap:square;stroke-width:1.5;\"/>\n",
       "   </g>\n",
       "   <g id=\"patch_3\">\n",
       "    <path d=\"M 30.103125 224.64 \n",
       "L 30.103125 7.2 \n",
       "\" style=\"fill:none;stroke:#000000;stroke-linecap:square;stroke-linejoin:miter;stroke-width:0.8;\"/>\n",
       "   </g>\n",
       "   <g id=\"patch_4\">\n",
       "    <path d=\"M 364.903125 224.64 \n",
       "L 364.903125 7.2 \n",
       "\" style=\"fill:none;stroke:#000000;stroke-linecap:square;stroke-linejoin:miter;stroke-width:0.8;\"/>\n",
       "   </g>\n",
       "   <g id=\"patch_5\">\n",
       "    <path d=\"M 30.103125 224.64 \n",
       "L 364.903125 224.64 \n",
       "\" style=\"fill:none;stroke:#000000;stroke-linecap:square;stroke-linejoin:miter;stroke-width:0.8;\"/>\n",
       "   </g>\n",
       "   <g id=\"patch_6\">\n",
       "    <path d=\"M 30.103125 7.2 \n",
       "L 364.903125 7.2 \n",
       "\" style=\"fill:none;stroke:#000000;stroke-linecap:square;stroke-linejoin:miter;stroke-width:0.8;\"/>\n",
       "   </g>\n",
       "  </g>\n",
       " </g>\n",
       " <defs>\n",
       "  <clipPath id=\"pfb825818fe\">\n",
       "   <rect height=\"217.44\" width=\"334.8\" x=\"30.103125\" y=\"7.2\"/>\n",
       "  </clipPath>\n",
       " </defs>\n",
       "</svg>\n"
      ],
      "text/plain": [
       "<Figure size 432x288 with 1 Axes>"
      ]
     },
     "metadata": {
      "needs_background": "light"
     },
     "output_type": "display_data"
    }
   ],
   "source": [
    "x = np.arange(-10, 11)\n",
    "y = 1/(1+np.exp(-x))\n",
    "plt.plot(x, y, '-')\n",
    "plt.show()"
   ]
  },
  {
   "cell_type": "markdown",
   "metadata": {},
   "source": [
    "W algorytmie regresji logistycznej zakładamy,że prawdopodobieństwo przynależności do klasy `pozytywnej` jest funkcją logistyczną kombinacji liniowej zmiennych objaśniających.\n",
    "\n",
    "$$ \\hat{P}(Y=1|X=x) = \\frac{\\exp(\\alpha + \\beta_1 x_1 + \\beta_2 x_2 + \\ldots +  \\beta_p x_p )}{1+\\exp(\\alpha + \\beta_1 x_1 + \\beta_2 x_2 + \\ldots +  \\beta_p x_p )}$$\n",
    "\n",
    "$$ \\hat{P}(Y=0|X=x)= \\frac{1}{1+\\exp(\\alpha + \\beta'x)} $$\n",
    "\n",
    "W procesie trenowanie modelu obliczane są współczynniki: $\\beta = (\\beta_1, ..., \\beta_p)$ i $\\alpha$.\n",
    "\n",
    "\n",
    "W wyniku predykcji otrzymujemy prawdopodbieństwo klasy `pozytywnej` lub konkretną klasę jeśli ustalimy punkt odcięcia (threshold).\n",
    "\n",
    "Istnieją warianty Ridge, LASSO i ElasticNet zaszyte w hiperparametrze `penalty`. Hiperparametr `C` jest odpowiednikiem `alpha`.\n"
   ]
  },
  {
   "cell_type": "code",
   "execution_count": 111,
   "metadata": {},
   "outputs": [],
   "source": [
    "from sklearn.linear_model import LogisticRegression\n",
    "?LogisticRegression"
   ]
  },
  {
   "cell_type": "code",
   "execution_count": 113,
   "metadata": {},
   "outputs": [
    {
     "name": "stderr",
     "output_type": "stream",
     "text": [
      "/home/kasia/.local/lib/python3.8/site-packages/sklearn/linear_model/_logistic.py:762: ConvergenceWarning: lbfgs failed to converge (status=1):\n",
      "STOP: TOTAL NO. of ITERATIONS REACHED LIMIT.\n",
      "\n",
      "Increase the number of iterations (max_iter) or scale the data as shown in:\n",
      "    https://scikit-learn.org/stable/modules/preprocessing.html\n",
      "Please also refer to the documentation for alternative solver options:\n",
      "    https://scikit-learn.org/stable/modules/linear_model.html#logistic-regression\n",
      "  n_iter_i = _check_optimize_result(\n"
     ]
    },
    {
     "data": {
      "text/plain": [
       "array([1, 0, 0, 1, 1, 0, 0, 0, 1, 1, 1, 0, 1, 0, 1, 0, 1, 1, 1, 0, 1, 1,\n",
       "       0, 1, 1, 1, 1, 1, 1, 0, 1, 1, 1, 1, 1, 1, 0, 1, 0, 1, 1, 0, 1, 1,\n",
       "       1, 1, 1, 1, 1, 1, 0, 0, 1, 1, 1, 1, 1, 0, 1, 1, 1, 0, 0, 1, 1, 1,\n",
       "       0, 0, 1, 1, 0, 0, 1, 0, 1, 1, 1, 1, 1, 1, 0, 1, 1, 0, 0, 0, 0, 0,\n",
       "       1, 1, 1, 1, 1, 1, 1, 1, 0, 0, 1, 0, 0, 1, 0, 0, 1, 1, 1, 0, 1, 1,\n",
       "       0, 1, 0, 0, 1, 0, 1, 1, 1, 0, 0, 1, 1, 0, 1, 0, 0, 1, 1, 0, 0, 0,\n",
       "       1, 1, 1, 0, 1, 1, 1, 0, 1, 0, 1, 1, 0, 1, 0, 0, 0, 1, 0, 1, 1, 1,\n",
       "       1, 0, 0, 1, 1, 1, 1, 1, 1, 1, 0, 1, 1, 1, 1, 0, 1, 1, 1, 1, 1, 1,\n",
       "       0, 1, 1, 1, 1, 0, 1, 0, 0, 0, 0, 1])"
      ]
     },
     "execution_count": 113,
     "metadata": {},
     "output_type": "execute_result"
    }
   ],
   "source": [
    "log_reg = LogisticRegression(penalty = 'l2', max_iter = 200)\n",
    "log_reg.fit(cancer_X_train, cancer_y_train)\n",
    "log_reg.predict(cancer_X_test)\n"
   ]
  },
  {
   "cell_type": "code",
   "execution_count": 114,
   "metadata": {},
   "outputs": [
    {
     "data": {
      "text/plain": [
       "array([[1.80550635e-01, 8.19449365e-01],\n",
       "       [9.99999990e-01, 9.62425181e-09],\n",
       "       [9.96677660e-01, 3.32234027e-03],\n",
       "       [3.90320154e-03, 9.96096798e-01],\n",
       "       [9.39981049e-04, 9.99060019e-01],\n",
       "       [9.99999999e-01, 5.32134468e-10],\n",
       "       [1.00000000e+00, 1.56928813e-12],\n",
       "       [9.90076813e-01, 9.92318707e-03],\n",
       "       [4.34451160e-03, 9.95655488e-01],\n",
       "       [1.73988675e-02, 9.82601133e-01],\n",
       "       [7.94649259e-02, 9.20535074e-01],\n",
       "       [9.99312787e-01, 6.87212706e-04],\n",
       "       [1.25057913e-02, 9.87494209e-01],\n",
       "       [8.36917633e-01, 1.63082367e-01],\n",
       "       [4.38261794e-03, 9.95617382e-01],\n",
       "       [9.97846286e-01, 2.15371410e-03],\n",
       "       [3.89988645e-03, 9.96100114e-01],\n",
       "       [2.90746883e-04, 9.99709253e-01],\n",
       "       [2.21457023e-03, 9.97785430e-01],\n",
       "       [9.99999857e-01, 1.43364459e-07],\n",
       "       [1.64563516e-01, 8.35436484e-01],\n",
       "       [1.92572673e-02, 9.80742733e-01],\n",
       "       [9.99999998e-01, 2.11797100e-09],\n",
       "       [7.61156709e-03, 9.92388433e-01],\n",
       "       [1.43196001e-02, 9.85680400e-01],\n",
       "       [8.46106588e-04, 9.99153893e-01],\n",
       "       [4.78692632e-03, 9.95213074e-01],\n",
       "       [1.01135566e-02, 9.89886443e-01],\n",
       "       [8.85222476e-03, 9.91147775e-01],\n",
       "       [9.99999970e-01, 2.97743339e-08],\n",
       "       [8.71915025e-03, 9.91280850e-01],\n",
       "       [1.87499381e-03, 9.98125006e-01],\n",
       "       [2.50360740e-02, 9.74963926e-01],\n",
       "       [2.04297098e-02, 9.79570290e-01],\n",
       "       [2.73670651e-03, 9.97263293e-01],\n",
       "       [6.83794006e-03, 9.93162060e-01],\n",
       "       [9.95714169e-01, 4.28583086e-03],\n",
       "       [7.50891092e-03, 9.92491089e-01],\n",
       "       [9.99991411e-01, 8.58904076e-06],\n",
       "       [2.40728661e-01, 7.59271339e-01],\n",
       "       [3.21906022e-03, 9.96780940e-01],\n",
       "       [9.98902809e-01, 1.09719109e-03],\n",
       "       [2.66758058e-03, 9.97332419e-01],\n",
       "       [1.78328364e-02, 9.82167164e-01],\n",
       "       [1.72436676e-03, 9.98275633e-01],\n",
       "       [8.41208697e-02, 9.15879130e-01],\n",
       "       [2.10574189e-03, 9.97894258e-01],\n",
       "       [8.36457445e-03, 9.91635426e-01],\n",
       "       [1.32968688e-01, 8.67031312e-01],\n",
       "       [4.46219983e-03, 9.95537800e-01],\n",
       "       [9.99856986e-01, 1.43013903e-04],\n",
       "       [9.99999999e-01, 1.36890506e-09],\n",
       "       [1.62281421e-01, 8.37718579e-01],\n",
       "       [5.39505836e-04, 9.99460494e-01],\n",
       "       [2.57385121e-03, 9.97426149e-01],\n",
       "       [3.00756525e-02, 9.69924347e-01],\n",
       "       [3.71955110e-03, 9.96280449e-01],\n",
       "       [1.00000000e+00, 2.03704236e-14],\n",
       "       [3.85933810e-01, 6.14066190e-01],\n",
       "       [7.91107834e-04, 9.99208892e-01],\n",
       "       [2.43181158e-02, 9.75681884e-01],\n",
       "       [9.99999825e-01, 1.74734933e-07],\n",
       "       [1.00000000e+00, 5.69573660e-12],\n",
       "       [9.62152412e-02, 9.03784759e-01],\n",
       "       [7.07821907e-03, 9.92921781e-01],\n",
       "       [1.73921754e-01, 8.26078246e-01],\n",
       "       [9.99958102e-01, 4.18975417e-05],\n",
       "       [9.99999999e-01, 1.47894385e-09],\n",
       "       [2.95971524e-03, 9.97040285e-01],\n",
       "       [3.48218899e-02, 9.65178110e-01],\n",
       "       [9.74849922e-01, 2.51500776e-02],\n",
       "       [9.99927811e-01, 7.21888604e-05],\n",
       "       [3.18220408e-03, 9.96817796e-01],\n",
       "       [9.14622145e-01, 8.53778553e-02],\n",
       "       [3.85215479e-02, 9.61478452e-01],\n",
       "       [2.98543822e-03, 9.97014562e-01],\n",
       "       [5.68896106e-02, 9.43110389e-01],\n",
       "       [4.78469928e-01, 5.21530072e-01],\n",
       "       [2.97154201e-03, 9.97028458e-01],\n",
       "       [8.90764020e-03, 9.91092360e-01],\n",
       "       [9.98465611e-01, 1.53438860e-03],\n",
       "       [5.10833004e-03, 9.94891670e-01],\n",
       "       [3.48012984e-01, 6.51987016e-01],\n",
       "       [1.00000000e+00, 2.11418223e-11],\n",
       "       [9.98672563e-01, 1.32743717e-03],\n",
       "       [9.70552130e-01, 2.94478701e-02],\n",
       "       [9.98254427e-01, 1.74557259e-03],\n",
       "       [9.99999707e-01, 2.92733835e-07],\n",
       "       [9.87215286e-03, 9.90127847e-01],\n",
       "       [8.79601001e-03, 9.91203990e-01],\n",
       "       [2.44509329e-02, 9.75549067e-01],\n",
       "       [1.13477307e-01, 8.86522693e-01],\n",
       "       [1.23087987e-01, 8.76912013e-01],\n",
       "       [2.18580949e-03, 9.97814191e-01],\n",
       "       [1.72652369e-03, 9.98273476e-01],\n",
       "       [4.10606805e-03, 9.95893932e-01],\n",
       "       [9.99999954e-01, 4.56591377e-08],\n",
       "       [9.99997495e-01, 2.50512773e-06],\n",
       "       [5.70862203e-04, 9.99429138e-01],\n",
       "       [9.99873005e-01, 1.26994547e-04],\n",
       "       [9.99729405e-01, 2.70594887e-04],\n",
       "       [3.23543193e-04, 9.99676457e-01],\n",
       "       [9.99999996e-01, 3.85154390e-09],\n",
       "       [9.97399649e-01, 2.60035071e-03],\n",
       "       [1.04140490e-01, 8.95859510e-01],\n",
       "       [9.62699856e-02, 9.03730014e-01],\n",
       "       [1.49052163e-02, 9.85094784e-01],\n",
       "       [1.00000000e+00, 6.48889752e-18],\n",
       "       [3.97665853e-02, 9.60233415e-01],\n",
       "       [1.30163962e-01, 8.69836038e-01],\n",
       "       [9.99736187e-01, 2.63812638e-04],\n",
       "       [5.64924473e-03, 9.94350755e-01],\n",
       "       [7.68685335e-01, 2.31314665e-01],\n",
       "       [1.00000000e+00, 1.22957855e-26],\n",
       "       [8.55993840e-02, 9.14400616e-01],\n",
       "       [1.00000000e+00, 2.86808075e-10],\n",
       "       [1.25831501e-03, 9.98741685e-01],\n",
       "       [1.29535046e-01, 8.70464954e-01],\n",
       "       [1.77494680e-03, 9.98225053e-01],\n",
       "       [9.98955217e-01, 1.04478343e-03],\n",
       "       [7.44368729e-01, 2.55631271e-01],\n",
       "       [3.34866504e-03, 9.96651335e-01],\n",
       "       [1.68719204e-02, 9.83128080e-01],\n",
       "       [9.99970296e-01, 2.97041787e-05],\n",
       "       [8.10639190e-02, 9.18936081e-01],\n",
       "       [9.99999997e-01, 2.61077584e-09],\n",
       "       [9.98590029e-01, 1.40997116e-03],\n",
       "       [2.78746843e-02, 9.72125316e-01],\n",
       "       [5.46576330e-03, 9.94534237e-01],\n",
       "       [9.99999959e-01, 4.05545491e-08],\n",
       "       [1.00000000e+00, 1.12843509e-13],\n",
       "       [9.99614908e-01, 3.85092278e-04],\n",
       "       [1.82857389e-01, 8.17142611e-01],\n",
       "       [3.30117308e-03, 9.96698827e-01],\n",
       "       [4.06816913e-02, 9.59318309e-01],\n",
       "       [9.47303496e-01, 5.26965036e-02],\n",
       "       [7.16018945e-02, 9.28398105e-01],\n",
       "       [7.60285682e-03, 9.92397143e-01],\n",
       "       [1.69245098e-01, 8.30754902e-01],\n",
       "       [9.80659243e-01, 1.93407566e-02],\n",
       "       [1.52813815e-02, 9.84718619e-01],\n",
       "       [1.00000000e+00, 4.47034586e-14],\n",
       "       [9.71484504e-04, 9.99028515e-01],\n",
       "       [5.37781084e-04, 9.99462219e-01],\n",
       "       [9.80896830e-01, 1.91031703e-02],\n",
       "       [2.46265703e-02, 9.75373430e-01],\n",
       "       [9.99992931e-01, 7.06866340e-06],\n",
       "       [9.99999877e-01, 1.22705030e-07],\n",
       "       [5.91918401e-01, 4.08081599e-01],\n",
       "       [7.36446468e-03, 9.92635535e-01],\n",
       "       [9.75806926e-01, 2.41930736e-02],\n",
       "       [1.49677584e-03, 9.98503224e-01],\n",
       "       [3.25985897e-03, 9.96740141e-01],\n",
       "       [5.23061963e-02, 9.47693804e-01],\n",
       "       [3.35409615e-02, 9.66459038e-01],\n",
       "       [1.00000000e+00, 2.16896996e-16],\n",
       "       [9.99567015e-01, 4.32984693e-04],\n",
       "       [3.96448491e-02, 9.60355151e-01],\n",
       "       [7.46307938e-03, 9.92536921e-01],\n",
       "       [4.38436458e-04, 9.99561564e-01],\n",
       "       [1.60818333e-06, 9.99998392e-01],\n",
       "       [1.80263892e-02, 9.81973611e-01],\n",
       "       [1.15239123e-02, 9.88476088e-01],\n",
       "       [5.49195378e-03, 9.94508046e-01],\n",
       "       [9.37115906e-01, 6.28840939e-02],\n",
       "       [2.07890118e-02, 9.79210988e-01],\n",
       "       [1.15033775e-03, 9.98849662e-01],\n",
       "       [2.81147409e-01, 7.18852591e-01],\n",
       "       [1.21853066e-02, 9.87814693e-01],\n",
       "       [9.16206291e-01, 8.37937089e-02],\n",
       "       [8.32168732e-02, 9.16783127e-01],\n",
       "       [2.01397468e-02, 9.79860253e-01],\n",
       "       [6.82597828e-03, 9.93174022e-01],\n",
       "       [2.51930844e-01, 7.48069156e-01],\n",
       "       [6.52700943e-03, 9.93472991e-01],\n",
       "       [1.35195916e-01, 8.64804084e-01],\n",
       "       [9.87913073e-01, 1.20869270e-02],\n",
       "       [4.68375384e-02, 9.53162462e-01],\n",
       "       [3.89121376e-02, 9.61087862e-01],\n",
       "       [5.92828669e-03, 9.94071713e-01],\n",
       "       [7.24464827e-02, 9.27553517e-01],\n",
       "       [5.94028867e-01, 4.05971133e-01],\n",
       "       [5.44770253e-03, 9.94552297e-01],\n",
       "       [9.99627398e-01, 3.72601863e-04],\n",
       "       [9.99998783e-01, 1.21674490e-06],\n",
       "       [9.68865661e-01, 3.11343387e-02],\n",
       "       [7.15308108e-01, 2.84691892e-01],\n",
       "       [2.61956038e-02, 9.73804396e-01]])"
      ]
     },
     "execution_count": 114,
     "metadata": {},
     "output_type": "execute_result"
    }
   ],
   "source": [
    "log_reg.predict_proba(cancer_X_test)"
   ]
  },
  {
   "cell_type": "markdown",
   "metadata": {},
   "source": [
    "### KNN- k najbliższych sąsiadów"
   ]
  },
  {
   "cell_type": "markdown",
   "metadata": {},
   "source": [
    "\n",
    "Przewidywanie klasy nowej obserwacji na podstawie $k$ najbliższych obserwacji z próby uczącej. Stosowana jest reguła większościowa.\n",
    "\n",
    "![](image/kknn_1.png)\n",
    "![](image/kknn_15.png)\n",
    "\n",
    "W różny sposób możemy określać odległość między obserwacjami (wybór metryki-`metric`), różną liczbę sąsiadów możemy brać pod uwagę."
   ]
  },
  {
   "cell_type": "code",
   "execution_count": 117,
   "metadata": {},
   "outputs": [],
   "source": [
    "from sklearn.neighbors import KNeighborsClassifier\n",
    "?KNeighborsClassifier\n"
   ]
  },
  {
   "cell_type": "code",
   "execution_count": 119,
   "metadata": {},
   "outputs": [
    {
     "data": {
      "text/plain": [
       "array([[0.4, 0.6],\n",
       "       [1. , 0. ],\n",
       "       [1. , 0. ],\n",
       "       [0. , 1. ],\n",
       "       [0. , 1. ],\n",
       "       [1. , 0. ],\n",
       "       [1. , 0. ],\n",
       "       [0.8, 0.2],\n",
       "       [0. , 1. ],\n",
       "       [0. , 1. ],\n",
       "       [0. , 1. ],\n",
       "       [1. , 0. ],\n",
       "       [0.2, 0.8],\n",
       "       [0.4, 0.6],\n",
       "       [0. , 1. ],\n",
       "       [1. , 0. ],\n",
       "       [0.4, 0.6],\n",
       "       [0. , 1. ],\n",
       "       [0. , 1. ],\n",
       "       [1. , 0. ],\n",
       "       [0.4, 0.6],\n",
       "       [0. , 1. ],\n",
       "       [1. , 0. ],\n",
       "       [0. , 1. ],\n",
       "       [0. , 1. ],\n",
       "       [0. , 1. ],\n",
       "       [0. , 1. ],\n",
       "       [0. , 1. ],\n",
       "       [0. , 1. ],\n",
       "       [1. , 0. ],\n",
       "       [0. , 1. ],\n",
       "       [0. , 1. ],\n",
       "       [0. , 1. ],\n",
       "       [0.4, 0.6],\n",
       "       [0. , 1. ],\n",
       "       [0. , 1. ],\n",
       "       [1. , 0. ],\n",
       "       [0. , 1. ],\n",
       "       [1. , 0. ],\n",
       "       [0.2, 0.8],\n",
       "       [0. , 1. ],\n",
       "       [1. , 0. ],\n",
       "       [0. , 1. ],\n",
       "       [0. , 1. ],\n",
       "       [0. , 1. ],\n",
       "       [0. , 1. ],\n",
       "       [0. , 1. ],\n",
       "       [0. , 1. ],\n",
       "       [0. , 1. ],\n",
       "       [0. , 1. ],\n",
       "       [1. , 0. ],\n",
       "       [1. , 0. ],\n",
       "       [0. , 1. ],\n",
       "       [0. , 1. ],\n",
       "       [0. , 1. ],\n",
       "       [0. , 1. ],\n",
       "       [0. , 1. ],\n",
       "       [1. , 0. ],\n",
       "       [0.6, 0.4],\n",
       "       [0. , 1. ],\n",
       "       [0. , 1. ],\n",
       "       [1. , 0. ],\n",
       "       [1. , 0. ],\n",
       "       [0.4, 0.6],\n",
       "       [0. , 1. ],\n",
       "       [0. , 1. ],\n",
       "       [1. , 0. ],\n",
       "       [1. , 0. ],\n",
       "       [0. , 1. ],\n",
       "       [0. , 1. ],\n",
       "       [0.4, 0.6],\n",
       "       [1. , 0. ],\n",
       "       [0. , 1. ],\n",
       "       [0.4, 0.6],\n",
       "       [0. , 1. ],\n",
       "       [0. , 1. ],\n",
       "       [0. , 1. ],\n",
       "       [0.6, 0.4],\n",
       "       [0. , 1. ],\n",
       "       [0. , 1. ],\n",
       "       [1. , 0. ],\n",
       "       [0. , 1. ],\n",
       "       [0.6, 0.4],\n",
       "       [1. , 0. ],\n",
       "       [1. , 0. ],\n",
       "       [0.8, 0.2],\n",
       "       [0.8, 0.2],\n",
       "       [1. , 0. ],\n",
       "       [0. , 1. ],\n",
       "       [0. , 1. ],\n",
       "       [0. , 1. ],\n",
       "       [0. , 1. ],\n",
       "       [0.2, 0.8],\n",
       "       [0. , 1. ],\n",
       "       [0. , 1. ],\n",
       "       [0. , 1. ],\n",
       "       [1. , 0. ],\n",
       "       [1. , 0. ],\n",
       "       [0. , 1. ],\n",
       "       [1. , 0. ],\n",
       "       [1. , 0. ],\n",
       "       [0. , 1. ],\n",
       "       [1. , 0. ],\n",
       "       [1. , 0. ],\n",
       "       [0.4, 0.6],\n",
       "       [0.2, 0.8],\n",
       "       [0. , 1. ],\n",
       "       [1. , 0. ],\n",
       "       [0.4, 0.6],\n",
       "       [0.4, 0.6],\n",
       "       [1. , 0. ],\n",
       "       [0. , 1. ],\n",
       "       [0.4, 0.6],\n",
       "       [1. , 0. ],\n",
       "       [0. , 1. ],\n",
       "       [1. , 0. ],\n",
       "       [0. , 1. ],\n",
       "       [0. , 1. ],\n",
       "       [0. , 1. ],\n",
       "       [1. , 0. ],\n",
       "       [0.4, 0.6],\n",
       "       [0. , 1. ],\n",
       "       [0. , 1. ],\n",
       "       [1. , 0. ],\n",
       "       [0. , 1. ],\n",
       "       [1. , 0. ],\n",
       "       [1. , 0. ],\n",
       "       [0. , 1. ],\n",
       "       [0. , 1. ],\n",
       "       [1. , 0. ],\n",
       "       [1. , 0. ],\n",
       "       [0.6, 0.4],\n",
       "       [0.6, 0.4],\n",
       "       [0. , 1. ],\n",
       "       [0.6, 0.4],\n",
       "       [1. , 0. ],\n",
       "       [0. , 1. ],\n",
       "       [0. , 1. ],\n",
       "       [0.6, 0.4],\n",
       "       [1. , 0. ],\n",
       "       [0. , 1. ],\n",
       "       [1. , 0. ],\n",
       "       [0. , 1. ],\n",
       "       [0. , 1. ],\n",
       "       [0.6, 0.4],\n",
       "       [0. , 1. ],\n",
       "       [1. , 0. ],\n",
       "       [1. , 0. ],\n",
       "       [1. , 0. ],\n",
       "       [0. , 1. ],\n",
       "       [1. , 0. ],\n",
       "       [0. , 1. ],\n",
       "       [0. , 1. ],\n",
       "       [0. , 1. ],\n",
       "       [0. , 1. ],\n",
       "       [1. , 0. ],\n",
       "       [1. , 0. ],\n",
       "       [0. , 1. ],\n",
       "       [0.4, 0.6],\n",
       "       [0. , 1. ],\n",
       "       [0. , 1. ],\n",
       "       [0. , 1. ],\n",
       "       [0. , 1. ],\n",
       "       [0. , 1. ],\n",
       "       [0.6, 0.4],\n",
       "       [0. , 1. ],\n",
       "       [0. , 1. ],\n",
       "       [0.2, 0.8],\n",
       "       [0. , 1. ],\n",
       "       [0.8, 0.2],\n",
       "       [0. , 1. ],\n",
       "       [0.2, 0.8],\n",
       "       [0. , 1. ],\n",
       "       [0.6, 0.4],\n",
       "       [0. , 1. ],\n",
       "       [0.2, 0.8],\n",
       "       [0.8, 0.2],\n",
       "       [0. , 1. ],\n",
       "       [0. , 1. ],\n",
       "       [0.4, 0.6],\n",
       "       [0. , 1. ],\n",
       "       [0. , 1. ],\n",
       "       [0. , 1. ],\n",
       "       [1. , 0. ],\n",
       "       [1. , 0. ],\n",
       "       [0.8, 0.2],\n",
       "       [0.6, 0.4],\n",
       "       [0. , 1. ]])"
      ]
     },
     "execution_count": 119,
     "metadata": {},
     "output_type": "execute_result"
    }
   ],
   "source": [
    "knn_cf = KNeighborsClassifier()\n",
    "knn_cf.fit(cancer_X_train, cancer_y_train)\n",
    "knn_cf.predict(cancer_X_test)\n",
    "knn_cf.predict_proba(cancer_X_test)"
   ]
  },
  {
   "cell_type": "markdown",
   "metadata": {},
   "source": [
    "### Support vector machine (SVM)"
   ]
  },
  {
   "cell_type": "markdown",
   "metadata": {},
   "source": [
    "Chcemy znaleźć najlepiej płaszczyznę najlepiej rozdzielającą obserwacje należące do różnych klas. Chcemy maksymalizować odległość obserwacji od tej płaszczyzny, a równocześnie każemy za popełnione błędy.\n",
    "\n",
    "![](image/svm_01.png)\n",
    "![](image/svm_02.png)\n",
    "\n",
    "Isnieje też rozszerzenie tej metody, w której dane  poddawane są przekształceniom zdefiniowanym przez hiperparametr `kernel`.\n",
    "\n",
    "\n",
    "Hiperparametry:\n",
    "* `kernel` - rodzaj przekształcenia, \n",
    "* `gamma` - dodatkowy parametr związany z przekształceniem zdefiniowanym przez `kernel`, \n",
    "* `C` - parametr kary za błędy."
   ]
  },
  {
   "cell_type": "code",
   "execution_count": 21,
   "metadata": {},
   "outputs": [],
   "source": [
    "from sklearn.svm import SVC\n",
    "?SVC"
   ]
  },
  {
   "cell_type": "markdown",
   "metadata": {},
   "source": [
    "![](https://miro.medium.com/max/3000/1*gtF6KeL7b9zNHd7pXtC1Nw.png)"
   ]
  },
  {
   "cell_type": "markdown",
   "metadata": {},
   "source": [
    "### Drzewa decyzyjne"
   ]
  },
  {
   "cell_type": "code",
   "execution_count": 128,
   "metadata": {},
   "outputs": [
    {
     "data": {
      "text/plain": [
       "[Text(167.4, 181.2, 'X[7] <= 0.051\\ngini = 0.471\\nsamples = 381\\nvalue = [145, 236]'),\n",
       " Text(83.7, 108.72, 'X[20] <= 16.83\\ngini = 0.098\\nsamples = 233\\nvalue = [12, 221]'),\n",
       " Text(41.85, 36.23999999999998, 'gini = 0.045\\nsamples = 219\\nvalue = [5, 214]'),\n",
       " Text(125.55000000000001, 36.23999999999998, 'gini = 0.5\\nsamples = 14\\nvalue = [7, 7]'),\n",
       " Text(251.10000000000002, 108.72, 'X[22] <= 90.38\\ngini = 0.182\\nsamples = 148\\nvalue = [133, 15]'),\n",
       " Text(209.25, 36.23999999999998, 'gini = 0.219\\nsamples = 8\\nvalue = [1, 7]'),\n",
       " Text(292.95, 36.23999999999998, 'gini = 0.108\\nsamples = 140\\nvalue = [132, 8]')]"
      ]
     },
     "execution_count": 128,
     "metadata": {},
     "output_type": "execute_result"
    },
    {
     "data": {
      "image/png": "[encoded data removed]",
      "text/plain": [
       "<Figure size 432x288 with 1 Axes>"
      ]
     },
     "metadata": {
      "needs_background": "light"
     },
     "output_type": "display_data"
    }
   ],
   "source": [
    "from sklearn.tree import DecisionTreeClassifier, plot_tree\n",
    "decision_tree = DecisionTreeClassifier(max_depth=2)\n",
    "decision_tree.fit(cancer_X_train, cancer_y_train)\n",
    "\n",
    "plot_tree(decision_tree)"
   ]
  },
  {
   "cell_type": "markdown",
   "metadata": {},
   "source": [
    "#### Jak tworzone jest drzewo decyzyjne?\n",
    "\n",
    "\n",
    "$m$ - rodzic, $m_L$ - lewe dziecko, $m_R$ - prawe dziecko \n",
    "\n",
    "$Q_m$ - miara różnorodności dla $m$ (Gini, entropia)\n",
    "\n",
    "$\\hat{p}_L$ - liczba obserwacji w węźle $m_L$ dzielona przez liczbę obserwacji w węźle $m$, analogicznie $\\hat{p}_R$\n",
    "\n",
    "$$ \\Delta Q_{m, m_L, m_R} = Q_m - (\\hat{p}_LQ_{m_L} + \\hat{p}_RQ_{m_R})$$\n",
    "\n",
    "Chcemy tak wybierać podziały, żeby maksymalizować $\\Delta Q_{m, m_L, m_R}$.\n",
    "\n",
    "Predykcja w ostatnim weźle (liściu) jest robiona na podstawie \n",
    "- reguły większościowej dla klasyfikacji\n",
    "- średnia dla regresji\n",
    "\n",
    "Hiperparametry:\n",
    "\n",
    "- na jakim poziomie skoćczyć dzielenie:\n",
    "    * `min_samples_split` - the minimum number of observations that must exist in a node in order for a split to be attempted\n",
    "    * `max_depth` - maksymalna głebokość drzewa\n",
    "    * `ccp_alpha` - parametr przycinania\n",
    "- na podstawie jakiego kryterium (gini lub information)\n",
    "- ile zmiennych brać pod uwagę przy szukaniu nowego podziału\n",
    "\n",
    "$T$ - drzewo\n",
    "$R(T)$ - frakcja obserwacji, które źle zaklasyfikowaliśmy\n",
    "$cp = \\alpha$\n",
    "$$ R_{\\alpha}(T) = R(T) + \\alpha |T| $$\n"
   ]
  },
  {
   "cell_type": "code",
   "execution_count": 129,
   "metadata": {},
   "outputs": [],
   "source": [
    "?DecisionTreeClassifier\n"
   ]
  },
  {
   "cell_type": "markdown",
   "metadata": {},
   "source": [
    "![](https://scikit-learn.org/stable/_images/sphx_glr_plot_iris_dtc_001.png)"
   ]
  },
  {
   "cell_type": "markdown",
   "metadata": {},
   "source": [
    "### Lasy losowe - random forest"
   ]
  },
  {
   "cell_type": "markdown",
   "metadata": {},
   "source": [
    "Lasy losowe są przykładem komitetu klasyfikatorów. Polegają na niezależnym tworzeniu `n_estimators` drzew decyzyjnych. \n",
    "Z każdego drzewa decyzyjnego otrzymujemy predykcję. Ostateczna predykcja jest średnią wszystkich predykcji.\n",
    "\n",
    "Algorytm ten dziedziczy większość hiperparametrów po drzewach decyzyjnych.\n",
    "\n",
    "Las losowy może być budowany na całych dostępnych danych treningowych lub na wylosowanej podpróbie ze zwracaniem (`bootstrap=True`).\n",
    "\n",
    "![](https://www.kdnuggets.com/wp-content/uploads/rand-forest-2.jpg)\n"
   ]
  },
  {
   "cell_type": "code",
   "execution_count": 13,
   "metadata": {},
   "outputs": [],
   "source": [
    "from sklearn.ensemble import RandomForestClassifier, ExtraTreesClassifier\n",
    "?RandomForestClassifier\n"
   ]
  },
  {
   "cell_type": "code",
   "execution_count": 47,
   "metadata": {},
   "outputs": [],
   "source": [
    "rf_cf = RandomForestClassifier()\n",
    "\n",
    "rf_cf.fit(cancer_X_train, cancer_y_train)\n",
    "predicted_proba_y_test_rf = rf_cf.predict_proba(cancer_X_test)\n",
    "predicted_class_y_test_rf = rf_cf.predict(cancer_X_test)"
   ]
  },
  {
   "cell_type": "markdown",
   "metadata": {},
   "source": [
    "### Gradient boosting"
   ]
  },
  {
   "cell_type": "markdown",
   "metadata": {},
   "source": [
    "![](https://miro.medium.com/max/3908/1*FoOt85zXNCaNFzpEj7ucuA.png)\n",
    "\n",
    "Gradient boosting jest przykładem modelu addytywnego, złożony jest z wielu nieskomplikowanych klasyfikatorów (*weak learners*), ale nie zbudowanych niezależnie tak jak w przypadku lasów losowych, tylko budowanych iteracyjnie na rezyduach z poprzedniego modelu.\n",
    "\n",
    "Gradient boosting o głębokości $k$ można zapisać jako:\n",
    "$$ D(X) = d_1(X) + d_2(X) + \\ldots d_k(X)$$,\n",
    "gdzie dla $d_1(X)$ zmienną odpowiedzi jest zmienna objaśniana $y$, ale dla kolejnych modeli $d_i(X)$ zmienną objaśnianą są rezydua z poprzedniego modelu. \n",
    "\n",
    "\n"
   ]
  },
  {
   "cell_type": "markdown",
   "metadata": {},
   "source": [
    "![](https://media.geeksforgeeks.org/wp-content/uploads/20200721214745/gradientboosting.PNG)\n",
    "\n"
   ]
  },
  {
   "cell_type": "markdown",
   "metadata": {},
   "source": [
    "Hiperparametry:\n",
    "- `n_estimators` - liczba budowanych drzew\n",
    "- `learning_rate` - waga z jaką włączane są do ostatecznej predykcji, predykcje z kolejnych drzew\n",
    "- parametry związane z budową drzew"
   ]
  },
  {
   "cell_type": "code",
   "execution_count": 1,
   "metadata": {},
   "outputs": [],
   "source": [
    "from sklearn.ensemble import GradientBoostingClassifier\n",
    "?GradientBoostingClassifier\n"
   ]
  },
  {
   "cell_type": "markdown",
   "metadata": {},
   "source": [
    "**XGBoost**, **CatBoost**, **LightGBM**  to inne implementacje tego algorytmu. Różnią od GBM sposobem poszukiwania podziałów w drzewach.\n",
    "\n",
    "Nie są dostępne w sklearn. Trzeba zainstalować odpowiedni pakiet."
   ]
  },
  {
   "cell_type": "markdown",
   "metadata": {},
   "source": [
    "### Sieci neuronowe"
   ]
  },
  {
   "cell_type": "markdown",
   "metadata": {},
   "source": [
    "<div>\n",
    "<img src=\"https://scikit-learn.org/stable/_images/multilayerperceptron_network.png\" width=\"500\" style=\"float:middle\"/>\n",
    "</div>\n",
    "\n"
   ]
  },
  {
   "cell_type": "markdown",
   "metadata": {},
   "source": [
    "Warstwa $[x_1, x_2, \\ldots, x_n]$ to *wejście sieci neurnowej (input layer)* składa się z tylu neuronów ile zmiennych ma zbiór danych.\n",
    "\n",
    "Warstwa $[a_1, a_2, \\ldots, a_k]$ to *warstwa ukryta (hidden layer)*. Każdy neuron jest funkcją kombinacji liniowej z poprzedniej warstwy, w tym przypadku input layer.\n",
    "\n",
    "$$ a_1 = \\sigma(b_1 + w_{11} x_1 +  w_{21} x_2 + \\ldots + w_{n1} x_n)$$\n",
    "\n",
    "$w_{ij}$ to wagi sieci\n",
    "\n",
    "\n",
    "$\\sigma$ to funkcja aktywacji, musi być nieliniowa żeby sieć nie była po prostu regresją\n",
    "\n",
    "Najczęściej używane funkcje aktywacji: RELU, tanh, sigmoid"
   ]
  },
  {
   "cell_type": "markdown",
   "metadata": {},
   "source": [
    "![](http://rasbt.github.io/mlxtend/user_guide/classifier/NeuralNetMLP_files/neuralnet_mlp_1.png)"
   ]
  },
  {
   "cell_type": "code",
   "execution_count": null,
   "metadata": {},
   "outputs": [],
   "source": [
    "from sklearn.neural_network import MLPClassifier"
   ]
  },
  {
   "cell_type": "code",
   "execution_count": null,
   "metadata": {},
   "outputs": [],
   "source": [
    "mlp_clf = MLPClassifier(solver='lbfgs', alpha=1e-5, hidden_layer_sizes=(5, 2), random_state=1)"
   ]
  },
  {
   "cell_type": "markdown",
   "metadata": {},
   "source": [
    "## Sposoby oceny jakości modelu - model performance\n",
    "\n",
    "[Dostępne metryki](https://scikit-learn.org/stable/modules/classes.html#module-sklearn.metrics)\n"
   ]
  },
  {
   "cell_type": "code",
   "execution_count": 27,
   "metadata": {},
   "outputs": [
    {
     "data": {
      "text/plain": [
       "dict_keys(['explained_variance', 'r2', 'max_error', 'neg_median_absolute_error', 'neg_mean_absolute_error', 'neg_mean_squared_error', 'neg_mean_squared_log_error', 'neg_root_mean_squared_error', 'neg_mean_poisson_deviance', 'neg_mean_gamma_deviance', 'accuracy', 'roc_auc', 'roc_auc_ovr', 'roc_auc_ovo', 'roc_auc_ovr_weighted', 'roc_auc_ovo_weighted', 'balanced_accuracy', 'average_precision', 'neg_log_loss', 'neg_brier_score', 'adjusted_rand_score', 'homogeneity_score', 'completeness_score', 'v_measure_score', 'mutual_info_score', 'adjusted_mutual_info_score', 'normalized_mutual_info_score', 'fowlkes_mallows_score', 'precision', 'precision_macro', 'precision_micro', 'precision_samples', 'precision_weighted', 'recall', 'recall_macro', 'recall_micro', 'recall_samples', 'recall_weighted', 'f1', 'f1_macro', 'f1_micro', 'f1_samples', 'f1_weighted', 'jaccard', 'jaccard_macro', 'jaccard_micro', 'jaccard_samples', 'jaccard_weighted'])"
      ]
     },
     "execution_count": 27,
     "metadata": {},
     "output_type": "execute_result"
    }
   ],
   "source": [
    "from sklearn import metrics\n",
    "metrics.SCORERS.keys()"
   ]
  },
  {
   "cell_type": "markdown",
   "metadata": {},
   "source": [
    "### Regresja - RMSE"
   ]
  },
  {
   "cell_type": "markdown",
   "metadata": {},
   "source": [
    "### Klasyfikacja binarna\n",
    "\n",
    "\n"
   ]
  },
  {
   "cell_type": "markdown",
   "metadata": {},
   "source": [
    "### Miary oparte na predykcji klasy\n",
    "\n",
    "#### confusion matrix\n",
    "\n",
    "Macierz błędów - zliczamy ile obserwacji w każdej z grup zostało poprawnie zaklasyfikowanych\n",
    "\n",
    "\n",
    "Rodzaje obserwacji:\n",
    "\n",
    "TP - True Positive - obserwacje poprawnie zaklasyfikowane do klasy pozytywnej\n",
    "\n",
    "TN - True Negative - obserwacje poprawnie zaklasyfikowane do klasy negatywnej\n",
    "\n",
    "FP - False Positive - obserwacje niepoprawnie zaklasyfikowane do klasy pozytywnej\n",
    "\n",
    "FN - False Negative - obserwacje niepoprawnie zaklasyfikowane do klasy negatywnej\n"
   ]
  },
  {
   "cell_type": "code",
   "execution_count": 148,
   "metadata": {},
   "outputs": [
    {
     "data": {
      "text/plain": [
       "<sklearn.metrics._plot.confusion_matrix.ConfusionMatrixDisplay at 0x7fbefd62b130>"
      ]
     },
     "execution_count": 148,
     "metadata": {},
     "output_type": "execute_result"
    },
    {
     "data": {
      "image/png": "[encoded data removed]",
      "text/plain": [
       "<Figure size 432x288 with 2 Axes>"
      ]
     },
     "metadata": {
      "needs_background": "light"
     },
     "output_type": "display_data"
    }
   ],
   "source": [
    "from sklearn.metrics import confusion_matrix, ConfusionMatrixDisplay\n",
    "cm = confusion_matrix( cancer_y_test,predicted_class_y_test_rf)\n",
    "\n",
    "disp = ConfusionMatrixDisplay(cm)\n",
    "disp.plot()"
   ]
  },
  {
   "cell_type": "markdown",
   "metadata": {},
   "source": [
    "#### Accuracy - dokładność\n",
    "\n",
    "Jaki procent wszystkich obserwacji został dobrze zaklasyfikowany\n",
    "\n",
    "$$ Accuracy = \\frac{TP + TN}{TP+FP+TN+FN} $$"
   ]
  },
  {
   "cell_type": "code",
   "execution_count": 151,
   "metadata": {},
   "outputs": [
    {
     "data": {
      "text/plain": [
       "0.9574468085106383"
      ]
     },
     "execution_count": 151,
     "metadata": {},
     "output_type": "execute_result"
    }
   ],
   "source": [
    "from sklearn.metrics import accuracy_score\n",
    "accuracy_score(cancer_y_test,predicted_class_y_test_rf)"
   ]
  },
  {
   "cell_type": "markdown",
   "metadata": {},
   "source": [
    "#### Precision function - precyzja\n",
    "\n",
    "Jaki procent obserwacji zaklasyfikowanych jako pozytywne, faktycznie należy do tej klasy\n",
    "\n",
    "$$ Precision = \\frac{TP}{TP+FP} $$"
   ]
  },
  {
   "cell_type": "code",
   "execution_count": 48,
   "metadata": {},
   "outputs": [
    {
     "data": {
      "text/plain": [
       "0.9590163934426229"
      ]
     },
     "execution_count": 48,
     "metadata": {},
     "output_type": "execute_result"
    }
   ],
   "source": [
    "from sklearn.metrics import precision_score\n",
    "precision_score(cancer_y_test,predicted_class_y_test_rf)"
   ]
  },
  {
   "cell_type": "markdown",
   "metadata": {},
   "source": [
    "#### Sensitivity function (recall, TruePositiveRate)\n",
    "\n",
    "Jaki procent obserwacji pozytywnych został zaklasyfikowany do tej klasy\n",
    "\n",
    "$$ recall = \\frac{TP}{TP+FN} $$\n",
    "\n",
    "Dla klasy negatywnej odpowiednikiem jest: **Specificity**"
   ]
  },
  {
   "cell_type": "markdown",
   "metadata": {},
   "source": [
    "#### Specificity function (True negative rate)\n",
    "Jaki procent obserwacji negatywnych został zaklasyfikowany do tej klasy\n",
    "\n",
    "$$ Specificity =  \\frac{TN}{TN+FP} $$"
   ]
  },
  {
   "cell_type": "markdown",
   "metadata": {},
   "source": [
    "#### F1\n",
    "\n",
    "Średnia harmoniczna precyzji i recall\n",
    "$$ F_1 = 2* \\frac{precision \\times recall}{precision + recall}$$"
   ]
  },
  {
   "cell_type": "code",
   "execution_count": 49,
   "metadata": {},
   "outputs": [
    {
     "data": {
      "text/plain": [
       "0.962962962962963"
      ]
     },
     "execution_count": 49,
     "metadata": {},
     "output_type": "execute_result"
    }
   ],
   "source": [
    "from sklearn.metrics import f1_score\n",
    "f1_score(cancer_y_test,predicted_class_y_test_rf)"
   ]
  },
  {
   "cell_type": "markdown",
   "metadata": {},
   "source": [
    "### Miary oparte na predykcji prawdopodobieństwa\n",
    "\n",
    "#### Krzywa ROCR\n",
    "\n",
    "Ten wykres jest funkcją punktu odcięcia - jeśli model przewidzi prawdopodobieństwo powyżej tej wartości to klasyfikujemy ją do klasy pozytywnej. Dla punktów odcięcia wyznaczne jest False Positive Rate (x) vs. True Positive Rate (y).\n",
    "\n",
    "[Youtube](https://www.youtube.com/watch?v=4jRBRDbJemM)"
   ]
  },
  {
   "cell_type": "code",
   "execution_count": 157,
   "metadata": {},
   "outputs": [],
   "source": [
    "from sklearn import metrics\n",
    "fpr, tpr, thresholds = metrics.roc_curve(cancer_y_test, predicted_proba_y_test_rf[:,1], pos_label=1)"
   ]
  },
  {
   "cell_type": "code",
   "execution_count": 161,
   "metadata": {},
   "outputs": [
    {
     "data": {
      "text/plain": [
       "<sklearn.metrics._plot.roc_curve.RocCurveDisplay at 0x7fbefd4bdee0>"
      ]
     },
     "execution_count": 161,
     "metadata": {},
     "output_type": "execute_result"
    },
    {
     "data": {
      "image/png": "[encoded data removed]",
      "text/plain": [
       "<Figure size 432x288 with 1 Axes>"
      ]
     },
     "metadata": {
      "needs_background": "light"
     },
     "output_type": "display_data"
    }
   ],
   "source": [
    "metrics.plot_roc_curve(rf_cf, cancer_X_test, cancer_y_test)"
   ]
  },
  {
   "cell_type": "markdown",
   "metadata": {},
   "source": [
    "<div>\n",
    "<img src=\"https://upload.wikimedia.org/wikipedia/commons/thumb/3/36/Roc-draft-xkcd-style.svg/1280px-Roc-draft-xkcd-style.svg.png\" width=\"500\" style=\"float:middle\"/>\n",
    "</div>"
   ]
  },
  {
   "cell_type": "markdown",
   "metadata": {},
   "source": [
    "#### AUC \n",
    "\n",
    "Pole pod krzywą ROC. AUC $\\in (0.5; 1]$"
   ]
  },
  {
   "cell_type": "markdown",
   "metadata": {},
   "source": [
    "#### Krzywa Precision-Recall  i AUPR\n",
    "\n",
    "Krzywa PR : wykres Recall (x) vs Precision (y).  \n",
    "Oś Recall (True positive rate) taka sama jak przy krzywej ROC. W krzywej ROC jest True negative rate a w krzywe PR Precyzja.\n",
    "\n",
    "\n",
    "**AUPR** - pole pod tą krzywą, AUPR $\\in (0.5; 1]$.\n",
    "\n",
    "Ważne dla niezbalansowanych danych - obie miary precision i recall patrzą na mniej liczną klasę."
   ]
  },
  {
   "cell_type": "markdown",
   "metadata": {},
   "source": [
    "## Klasyfikacja wieloetykietowa\n",
    "\n",
    "### Accuracy \n",
    "\n",
    "### Micro i Macro-average score\n",
    "\n",
    "Traktujemy każdą pojedynczą klasę $i$ jako pozytywną a pozostałe jako negatywne (One vs. All) i obliczamy dla niej metryki $TP_i, TN_i, FP_i, FN_i$.\n",
    "\n",
    "**Micro averaged precision** - modyfikujemy wzór na precyzję i jako $TP$ bierzemy sumę $TP_i$ dla wszystkich klas itd.\n",
    "\n",
    "$$ Precision_{micro}=  \\frac{TP_i +\\ldots +TP_k}{(TP_i +\\ldots +TP_k) +(FP_i +\\ldots +FP_k)} $$\n",
    "\n",
    "**Macro averaged precision** - średnia precyzji dla każdej klasy\n",
    "$$ Precision_i = \\frac{TP_i}{TP_i+FP_i} $$\n",
    "\n",
    "\n",
    "$$ Precision_{macro}=  \\frac{Precision_1 +\\ldots+Precision_k}{k} $$\n",
    "\n",
    "Analogicznie powstają pozostałe miary oparte o tablicę pomyłek, a potem $F1 score$, krzywa ROC i AUC.\n",
    "\n"
   ]
  },
  {
   "cell_type": "markdown",
   "metadata": {},
   "source": [
    "Więcej materiałów i kod można znaleźć [tu](https://vitalflux.com/micro-average-macro-average-scoring-metrics-multi-class-classification-python/)"
   ]
  },
  {
   "cell_type": "markdown",
   "metadata": {},
   "source": [
    "## Problem generalizacji"
   ]
  },
  {
   "cell_type": "markdown",
   "metadata": {},
   "source": [
    "### Podział na zbiór testowy i treningowy"
   ]
  },
  {
   "cell_type": "markdown",
   "metadata": {},
   "source": [
    "### Kroswalidacja\n"
   ]
  },
  {
   "cell_type": "markdown",
   "metadata": {},
   "source": [
    "\n",
    "Aby lepiej oceniać stabilność jakośni modeli na danych treningowych stosuje się kroswalidację - cały zbiór danych treningowy dzielimy na $k$ - podzbiorów. W każdej iteracji uczymy algorytm na $k-1$ podzbiorach a testujemy na pozostałym jednym zbiorze danych. \n",
    "\n",
    "Jako ocenę jakości modeli możemy stosować każdą z wyżej wymienionych miar.\n",
    "\n",
    "Jeśli model jest dobrze przygotowany to błąd, który uzyskamy na zbiorze testowym (który nie był wykorzystywany w kroswalidacji) powiniem być zbliżony do średnigo błędu z kroswalidacji.\n",
    "\n",
    "![](image/crossvalidation.png)"
   ]
  },
  {
   "cell_type": "code",
   "execution_count": 14,
   "metadata": {},
   "outputs": [
    {
     "name": "stdout",
     "output_type": "stream",
     "text": [
      "dict_keys(['fit_time', 'score_time', 'test_score'])\n",
      "[0.96062992 0.94488189 0.92913386]\n"
     ]
    }
   ],
   "source": [
    "from sklearn.model_selection import cross_validate\n",
    "# parametr cv  - możemy podać liczę podzialow, albo konkretny podzial po indeksach ramki danych \n",
    "# scoring - jakiej metryki uzyc do oceny\n",
    "\n",
    "rf_clf = RandomForestClassifier(n_estimators=10)\n",
    "\n",
    "\n",
    "cv_results = cross_validate(rf_clf, cancer_X_train, cancer_y_train, cv=3)\n",
    "print(cv_results.keys())\n",
    "\n",
    "print(cv_results['test_score'])\n"
   ]
  },
  {
   "cell_type": "code",
   "execution_count": 16,
   "metadata": {},
   "outputs": [
    {
     "name": "stdout",
     "output_type": "stream",
     "text": [
      "dict_keys(['fit_time', 'score_time', 'test_accuracy', 'train_accuracy', 'test_roc_auc', 'train_roc_auc'])\n",
      "[0.93700787 0.93700787 0.94488189]\n"
     ]
    }
   ],
   "source": [
    "# Mozemy podawac kilka metryk, ktore beda sprawdzane na zbiorze testowym i treningowym (scoring)\n",
    "# Mozemy zachowywac tez wyniki na zbiorze treningowym (return_train_score)\n",
    "\n",
    "cv_results = cross_validate(rf_clf, cancer_X_train, cancer_y_train, cv=3, \n",
    "                            return_train_score = True,scoring =  ['accuracy', 'roc_auc'])\n",
    "print(cv_results.keys())\n",
    "\n",
    "print(cv_results['test_accuracy'])"
   ]
  },
  {
   "cell_type": "markdown",
   "metadata": {},
   "source": [
    "## Wybór hiperparametrów"
   ]
  },
  {
   "cell_type": "markdown",
   "metadata": {},
   "source": [
    "Oprócz wyboru algorytmu musimy też ustalić z jakimi hiperparametrami model powinien się uczyć. \n",
    "Brakuje dobrych wskazówek jak dobierać hiperparametery.\n",
    "\n",
    "Techniki poszukiwania parametrów:\n",
    "- grid search- my decydujemy dla jakich wartości testować algorytmy - sklearn.model_selection.GridSearchCV\n",
    "- random search - podajemy przedziały, z których wartości są losowane - sklearn.model_selection.RandomizedSearchCV\n",
    "\n",
    "W sklearnie funkcje przeszukujące siatkę parametrów połączone są z kroswalidacją. \n",
    "Dla każdego podziału kroswalidyjnego dopasowywany jest model z ustalonymi parametrami.\n",
    "\n",
    "`GridSearchCV` i `RandomizedSearchCV` mają metodę `fit`. Wyniki są przechowywane w polu `cv_results_`."
   ]
  },
  {
   "cell_type": "markdown",
   "metadata": {},
   "source": [
    "![](https://developer.qualcomm.com/sites/default/files/attachments/learning_resources_03-05.png)"
   ]
  },
  {
   "cell_type": "code",
   "execution_count": 38,
   "metadata": {},
   "outputs": [],
   "source": [
    "from sklearn.model_selection import GridSearchCV, RandomizedSearchCV\n",
    "?GridSearchCV"
   ]
  },
  {
   "cell_type": "markdown",
   "metadata": {},
   "source": [
    "#### Grid search"
   ]
  },
  {
   "cell_type": "code",
   "execution_count": 30,
   "metadata": {},
   "outputs": [
    {
     "data": {
      "text/plain": [
       "GridSearchCV(estimator=SVC(),\n",
       "             param_grid={'C': [1, 10], 'kernel': ('linear', 'rbf')},\n",
       "             scoring='roc_auc')"
      ]
     },
     "execution_count": 30,
     "metadata": {},
     "output_type": "execute_result"
    }
   ],
   "source": [
    "parameters = {'kernel':('linear', 'rbf'), 'C':[1, 10]}\n",
    "svc = SVC()\n",
    "## domyslny parametcv = 5\n",
    "\n",
    "clf = GridSearchCV(svc, parameters, scoring = 'roc_auc')\n",
    "clf.fit(cancer_X_train, cancer_y_train)"
   ]
  },
  {
   "cell_type": "code",
   "execution_count": 35,
   "metadata": {},
   "outputs": [
    {
     "data": {
      "text/plain": [
       "[{'C': 1, 'kernel': 'linear'},\n",
       " {'C': 1, 'kernel': 'rbf'},\n",
       " {'C': 10, 'kernel': 'linear'},\n",
       " {'C': 10, 'kernel': 'rbf'}]"
      ]
     },
     "execution_count": 35,
     "metadata": {},
     "output_type": "execute_result"
    }
   ],
   "source": [
    "clf.cv_results_['params']"
   ]
  },
  {
   "cell_type": "code",
   "execution_count": 36,
   "metadata": {},
   "outputs": [
    {
     "data": {
      "text/plain": [
       "array([0.99784483, 0.96695402, 0.98994253, 0.97701149])"
      ]
     },
     "execution_count": 36,
     "metadata": {},
     "output_type": "execute_result"
    }
   ],
   "source": [
    "clf.cv_results_['split0_test_score']"
   ]
  },
  {
   "cell_type": "code",
   "execution_count": 37,
   "metadata": {},
   "outputs": [
    {
     "data": {
      "text/plain": [
       "array([0.98959098, 0.96639154, 0.98757031, 0.9736855 ])"
      ]
     },
     "execution_count": 37,
     "metadata": {},
     "output_type": "execute_result"
    }
   ],
   "source": [
    "clf.cv_results_['mean_test_score']"
   ]
  },
  {
   "cell_type": "markdown",
   "metadata": {},
   "source": [
    "#### Random search"
   ]
  },
  {
   "cell_type": "code",
   "execution_count": 39,
   "metadata": {},
   "outputs": [],
   "source": [
    "?RandomizedSearchCV"
   ]
  },
  {
   "cell_type": "code",
   "execution_count": 43,
   "metadata": {},
   "outputs": [
    {
     "data": {
      "text/plain": [
       "RandomizedSearchCV(estimator=SVC(),\n",
       "                   param_distributions={'C': <scipy.stats._distn_infrastructure.rv_frozen object at 0x7fa0a0cb4970>,\n",
       "                                        'class_weight': ['balanced', None],\n",
       "                                        'gamma': <scipy.stats._distn_infrastructure.rv_frozen object at 0x7fa0a0889430>,\n",
       "                                        'kernel': ['rbf']},\n",
       "                   random_state=0)"
      ]
     },
     "execution_count": 43,
     "metadata": {},
     "output_type": "execute_result"
    }
   ],
   "source": [
    "import scipy.stats\n",
    "\n",
    "## w liscie parametrow do testowania musimy powiedziec z jakim rozkladem wartosci powinny byc losowane\n",
    "parameters_distribution = {'C': scipy.stats.expon(scale=100), 'gamma': scipy.stats.expon(scale=.1),\n",
    "  'kernel': ['rbf'], 'class_weight':['balanced', None]}\n",
    "\n",
    "clf_random = RandomizedSearchCV(svc, parameters_distribution, random_state=0)\n",
    "clf_random.fit(cancer_X_train, cancer_y_train)"
   ]
  },
  {
   "cell_type": "code",
   "execution_count": 44,
   "metadata": {},
   "outputs": [
    {
     "data": {
      "text/plain": [
       "[{'C': 79.587450816311,\n",
       "  'class_weight': None,\n",
       "  'gamma': 0.18596042409118513,\n",
       "  'kernel': 'rbf'},\n",
       " {'C': 195.1545320209259,\n",
       "  'class_weight': None,\n",
       "  'gamma': 0.05510484910954993,\n",
       "  'kernel': 'rbf'},\n",
       " {'C': 103.81592949436094,\n",
       "  'class_weight': 'balanced',\n",
       "  'gamma': 0.035315914097266164,\n",
       "  'kernel': 'rbf'},\n",
       " {'C': 5.838467078070334,\n",
       "  'class_weight': 'balanced',\n",
       "  'gamma': 0.048360210090225335,\n",
       "  'kernel': 'rbf'},\n",
       " {'C': 156.88961399691684,\n",
       "  'class_weight': None,\n",
       "  'gamma': 0.06538825690914733,\n",
       "  'kernel': 'rbf'},\n",
       " {'C': 49.88720138545616,\n",
       "  'class_weight': None,\n",
       "  'gamma': 0.007368535491284788,\n",
       "  'kernel': 'rbf'},\n",
       " {'C': 9.116102911900049,\n",
       "  'class_weight': None,\n",
       "  'gamma': 0.04592481411779334,\n",
       "  'kernel': 'rbf'},\n",
       " {'C': 315.0170036823506,\n",
       "  'class_weight': None,\n",
       "  'gamma': 0.2040314280945551,\n",
       "  'kernel': 'rbf'},\n",
       " {'C': 384.5221838166849,\n",
       "  'class_weight': 'balanced',\n",
       "  'gamma': 0.16140020722815185,\n",
       "  'kernel': 'rbf'},\n",
       " {'C': 73.49644192364165,\n",
       "  'class_weight': None,\n",
       "  'gamma': 0.01258744118305428,\n",
       "  'kernel': 'rbf'}]"
      ]
     },
     "execution_count": 44,
     "metadata": {},
     "output_type": "execute_result"
    }
   ],
   "source": [
    "clf_random.cv_results_['params']"
   ]
  },
  {
   "cell_type": "code",
   "execution_count": 45,
   "metadata": {},
   "outputs": [
    {
     "data": {
      "text/html": [
       "<div>\n",
       "<style scoped>\n",
       "    .dataframe tbody tr th:only-of-type {\n",
       "        vertical-align: middle;\n",
       "    }\n",
       "\n",
       "    .dataframe tbody tr th {\n",
       "        vertical-align: top;\n",
       "    }\n",
       "\n",
       "    .dataframe thead th {\n",
       "        text-align: right;\n",
       "    }\n",
       "</style>\n",
       "<table border=\"1\" class=\"dataframe\">\n",
       "  <thead>\n",
       "    <tr style=\"text-align: right;\">\n",
       "      <th></th>\n",
       "      <th>mean_fit_time</th>\n",
       "      <th>std_fit_time</th>\n",
       "      <th>mean_score_time</th>\n",
       "      <th>std_score_time</th>\n",
       "      <th>param_C</th>\n",
       "      <th>param_class_weight</th>\n",
       "      <th>param_gamma</th>\n",
       "      <th>param_kernel</th>\n",
       "      <th>params</th>\n",
       "      <th>split0_test_score</th>\n",
       "      <th>split1_test_score</th>\n",
       "      <th>split2_test_score</th>\n",
       "      <th>split3_test_score</th>\n",
       "      <th>split4_test_score</th>\n",
       "      <th>mean_test_score</th>\n",
       "      <th>std_test_score</th>\n",
       "      <th>rank_test_score</th>\n",
       "    </tr>\n",
       "  </thead>\n",
       "  <tbody>\n",
       "    <tr>\n",
       "      <th>0</th>\n",
       "      <td>0.006602</td>\n",
       "      <td>0.000817</td>\n",
       "      <td>0.002026</td>\n",
       "      <td>0.000113</td>\n",
       "      <td>79.587451</td>\n",
       "      <td>None</td>\n",
       "      <td>0.185960</td>\n",
       "      <td>rbf</td>\n",
       "      <td>{'C': 79.587450816311, 'class_weight': None, '...</td>\n",
       "      <td>0.623377</td>\n",
       "      <td>0.618421</td>\n",
       "      <td>0.618421</td>\n",
       "      <td>0.618421</td>\n",
       "      <td>0.618421</td>\n",
       "      <td>0.619412</td>\n",
       "      <td>0.001982</td>\n",
       "      <td>2</td>\n",
       "    </tr>\n",
       "    <tr>\n",
       "      <th>1</th>\n",
       "      <td>0.005859</td>\n",
       "      <td>0.000131</td>\n",
       "      <td>0.001947</td>\n",
       "      <td>0.000119</td>\n",
       "      <td>195.154532</td>\n",
       "      <td>None</td>\n",
       "      <td>0.055105</td>\n",
       "      <td>rbf</td>\n",
       "      <td>{'C': 195.1545320209259, 'class_weight': None,...</td>\n",
       "      <td>0.623377</td>\n",
       "      <td>0.618421</td>\n",
       "      <td>0.618421</td>\n",
       "      <td>0.618421</td>\n",
       "      <td>0.618421</td>\n",
       "      <td>0.619412</td>\n",
       "      <td>0.001982</td>\n",
       "      <td>2</td>\n",
       "    </tr>\n",
       "    <tr>\n",
       "      <th>2</th>\n",
       "      <td>0.006028</td>\n",
       "      <td>0.000083</td>\n",
       "      <td>0.001893</td>\n",
       "      <td>0.000039</td>\n",
       "      <td>103.815929</td>\n",
       "      <td>balanced</td>\n",
       "      <td>0.035316</td>\n",
       "      <td>rbf</td>\n",
       "      <td>{'C': 103.81592949436094, 'class_weight': 'bal...</td>\n",
       "      <td>0.623377</td>\n",
       "      <td>0.618421</td>\n",
       "      <td>0.618421</td>\n",
       "      <td>0.618421</td>\n",
       "      <td>0.618421</td>\n",
       "      <td>0.619412</td>\n",
       "      <td>0.001982</td>\n",
       "      <td>2</td>\n",
       "    </tr>\n",
       "    <tr>\n",
       "      <th>3</th>\n",
       "      <td>0.005971</td>\n",
       "      <td>0.000115</td>\n",
       "      <td>0.001865</td>\n",
       "      <td>0.000004</td>\n",
       "      <td>5.838467</td>\n",
       "      <td>balanced</td>\n",
       "      <td>0.048360</td>\n",
       "      <td>rbf</td>\n",
       "      <td>{'C': 5.838467078070334, 'class_weight': 'bala...</td>\n",
       "      <td>0.623377</td>\n",
       "      <td>0.618421</td>\n",
       "      <td>0.618421</td>\n",
       "      <td>0.618421</td>\n",
       "      <td>0.618421</td>\n",
       "      <td>0.619412</td>\n",
       "      <td>0.001982</td>\n",
       "      <td>2</td>\n",
       "    </tr>\n",
       "    <tr>\n",
       "      <th>4</th>\n",
       "      <td>0.005810</td>\n",
       "      <td>0.000099</td>\n",
       "      <td>0.001833</td>\n",
       "      <td>0.000032</td>\n",
       "      <td>156.889614</td>\n",
       "      <td>None</td>\n",
       "      <td>0.065388</td>\n",
       "      <td>rbf</td>\n",
       "      <td>{'C': 156.88961399691684, 'class_weight': None...</td>\n",
       "      <td>0.623377</td>\n",
       "      <td>0.618421</td>\n",
       "      <td>0.618421</td>\n",
       "      <td>0.618421</td>\n",
       "      <td>0.618421</td>\n",
       "      <td>0.619412</td>\n",
       "      <td>0.001982</td>\n",
       "      <td>2</td>\n",
       "    </tr>\n",
       "    <tr>\n",
       "      <th>5</th>\n",
       "      <td>0.005835</td>\n",
       "      <td>0.000062</td>\n",
       "      <td>0.001850</td>\n",
       "      <td>0.000007</td>\n",
       "      <td>49.887201</td>\n",
       "      <td>None</td>\n",
       "      <td>0.007369</td>\n",
       "      <td>rbf</td>\n",
       "      <td>{'C': 49.88720138545616, 'class_weight': None,...</td>\n",
       "      <td>0.610390</td>\n",
       "      <td>0.631579</td>\n",
       "      <td>0.657895</td>\n",
       "      <td>0.657895</td>\n",
       "      <td>0.631579</td>\n",
       "      <td>0.637867</td>\n",
       "      <td>0.018090</td>\n",
       "      <td>1</td>\n",
       "    </tr>\n",
       "    <tr>\n",
       "      <th>6</th>\n",
       "      <td>0.005612</td>\n",
       "      <td>0.000109</td>\n",
       "      <td>0.001861</td>\n",
       "      <td>0.000051</td>\n",
       "      <td>9.116103</td>\n",
       "      <td>None</td>\n",
       "      <td>0.045925</td>\n",
       "      <td>rbf</td>\n",
       "      <td>{'C': 9.116102911900049, 'class_weight': None,...</td>\n",
       "      <td>0.623377</td>\n",
       "      <td>0.618421</td>\n",
       "      <td>0.618421</td>\n",
       "      <td>0.618421</td>\n",
       "      <td>0.618421</td>\n",
       "      <td>0.619412</td>\n",
       "      <td>0.001982</td>\n",
       "      <td>2</td>\n",
       "    </tr>\n",
       "    <tr>\n",
       "      <th>7</th>\n",
       "      <td>0.005670</td>\n",
       "      <td>0.000092</td>\n",
       "      <td>0.001765</td>\n",
       "      <td>0.000056</td>\n",
       "      <td>315.017004</td>\n",
       "      <td>None</td>\n",
       "      <td>0.204031</td>\n",
       "      <td>rbf</td>\n",
       "      <td>{'C': 315.0170036823506, 'class_weight': None,...</td>\n",
       "      <td>0.623377</td>\n",
       "      <td>0.618421</td>\n",
       "      <td>0.618421</td>\n",
       "      <td>0.618421</td>\n",
       "      <td>0.618421</td>\n",
       "      <td>0.619412</td>\n",
       "      <td>0.001982</td>\n",
       "      <td>2</td>\n",
       "    </tr>\n",
       "    <tr>\n",
       "      <th>8</th>\n",
       "      <td>0.005951</td>\n",
       "      <td>0.000113</td>\n",
       "      <td>0.001755</td>\n",
       "      <td>0.000047</td>\n",
       "      <td>384.522184</td>\n",
       "      <td>balanced</td>\n",
       "      <td>0.161400</td>\n",
       "      <td>rbf</td>\n",
       "      <td>{'C': 384.5221838166849, 'class_weight': 'bala...</td>\n",
       "      <td>0.623377</td>\n",
       "      <td>0.618421</td>\n",
       "      <td>0.618421</td>\n",
       "      <td>0.618421</td>\n",
       "      <td>0.618421</td>\n",
       "      <td>0.619412</td>\n",
       "      <td>0.001982</td>\n",
       "      <td>2</td>\n",
       "    </tr>\n",
       "    <tr>\n",
       "      <th>9</th>\n",
       "      <td>0.005929</td>\n",
       "      <td>0.000102</td>\n",
       "      <td>0.001910</td>\n",
       "      <td>0.000066</td>\n",
       "      <td>73.496442</td>\n",
       "      <td>None</td>\n",
       "      <td>0.012587</td>\n",
       "      <td>rbf</td>\n",
       "      <td>{'C': 73.49644192364165, 'class_weight': None,...</td>\n",
       "      <td>0.623377</td>\n",
       "      <td>0.618421</td>\n",
       "      <td>0.618421</td>\n",
       "      <td>0.618421</td>\n",
       "      <td>0.618421</td>\n",
       "      <td>0.619412</td>\n",
       "      <td>0.001982</td>\n",
       "      <td>2</td>\n",
       "    </tr>\n",
       "  </tbody>\n",
       "</table>\n",
       "</div>"
      ],
      "text/plain": [
       "   mean_fit_time  std_fit_time  mean_score_time  std_score_time     param_C  \\\n",
       "0       0.006602      0.000817         0.002026        0.000113   79.587451   \n",
       "1       0.005859      0.000131         0.001947        0.000119  195.154532   \n",
       "2       0.006028      0.000083         0.001893        0.000039  103.815929   \n",
       "3       0.005971      0.000115         0.001865        0.000004    5.838467   \n",
       "4       0.005810      0.000099         0.001833        0.000032  156.889614   \n",
       "5       0.005835      0.000062         0.001850        0.000007   49.887201   \n",
       "6       0.005612      0.000109         0.001861        0.000051    9.116103   \n",
       "7       0.005670      0.000092         0.001765        0.000056  315.017004   \n",
       "8       0.005951      0.000113         0.001755        0.000047  384.522184   \n",
       "9       0.005929      0.000102         0.001910        0.000066   73.496442   \n",
       "\n",
       "  param_class_weight param_gamma param_kernel  \\\n",
       "0               None    0.185960          rbf   \n",
       "1               None    0.055105          rbf   \n",
       "2           balanced    0.035316          rbf   \n",
       "3           balanced    0.048360          rbf   \n",
       "4               None    0.065388          rbf   \n",
       "5               None    0.007369          rbf   \n",
       "6               None    0.045925          rbf   \n",
       "7               None    0.204031          rbf   \n",
       "8           balanced    0.161400          rbf   \n",
       "9               None    0.012587          rbf   \n",
       "\n",
       "                                              params  split0_test_score  \\\n",
       "0  {'C': 79.587450816311, 'class_weight': None, '...           0.623377   \n",
       "1  {'C': 195.1545320209259, 'class_weight': None,...           0.623377   \n",
       "2  {'C': 103.81592949436094, 'class_weight': 'bal...           0.623377   \n",
       "3  {'C': 5.838467078070334, 'class_weight': 'bala...           0.623377   \n",
       "4  {'C': 156.88961399691684, 'class_weight': None...           0.623377   \n",
       "5  {'C': 49.88720138545616, 'class_weight': None,...           0.610390   \n",
       "6  {'C': 9.116102911900049, 'class_weight': None,...           0.623377   \n",
       "7  {'C': 315.0170036823506, 'class_weight': None,...           0.623377   \n",
       "8  {'C': 384.5221838166849, 'class_weight': 'bala...           0.623377   \n",
       "9  {'C': 73.49644192364165, 'class_weight': None,...           0.623377   \n",
       "\n",
       "   split1_test_score  split2_test_score  split3_test_score  split4_test_score  \\\n",
       "0           0.618421           0.618421           0.618421           0.618421   \n",
       "1           0.618421           0.618421           0.618421           0.618421   \n",
       "2           0.618421           0.618421           0.618421           0.618421   \n",
       "3           0.618421           0.618421           0.618421           0.618421   \n",
       "4           0.618421           0.618421           0.618421           0.618421   \n",
       "5           0.631579           0.657895           0.657895           0.631579   \n",
       "6           0.618421           0.618421           0.618421           0.618421   \n",
       "7           0.618421           0.618421           0.618421           0.618421   \n",
       "8           0.618421           0.618421           0.618421           0.618421   \n",
       "9           0.618421           0.618421           0.618421           0.618421   \n",
       "\n",
       "   mean_test_score  std_test_score  rank_test_score  \n",
       "0         0.619412        0.001982                2  \n",
       "1         0.619412        0.001982                2  \n",
       "2         0.619412        0.001982                2  \n",
       "3         0.619412        0.001982                2  \n",
       "4         0.619412        0.001982                2  \n",
       "5         0.637867        0.018090                1  \n",
       "6         0.619412        0.001982                2  \n",
       "7         0.619412        0.001982                2  \n",
       "8         0.619412        0.001982                2  \n",
       "9         0.619412        0.001982                2  "
      ]
     },
     "execution_count": 45,
     "metadata": {},
     "output_type": "execute_result"
    }
   ],
   "source": [
    "pd.DataFrame(clf_random.cv_results_)"
   ]
  },
  {
   "cell_type": "markdown",
   "metadata": {},
   "source": [
    "## Modelowy skrypt"
   ]
  },
  {
   "cell_type": "code",
   "execution_count": null,
   "metadata": {},
   "outputs": [],
   "source": [
    "## wczytanie bibliotek\n",
    "\n",
    "## wczytanie danych\n",
    "\n",
    "## zdefiniowanie zmiennej odpowiedzi i zmiennych objasniajacych\n",
    "\n",
    "## analiza eksploracyjna i preprocessing\n",
    "\n",
    "## podzial na zbior testowy i treningowy\n",
    "\n",
    "## wybor algorytmow i tuning hiperparametrow\n",
    "\n",
    "## porownanie najlepszych modeli pomiedzy algorytmami"
   ]
  }
 ],
 "metadata": {
  "kernelspec": {
   "display_name": "Python 3",
   "language": "python",
   "name": "python3"
  },
  "language_info": {
   "codemirror_mode": {
    "name": "ipython",
    "version": 3
   },
   "file_extension": ".py",
   "mimetype": "text/x-python",
   "name": "python",
   "nbconvert_exporter": "python",
   "pygments_lexer": "ipython3",
   "version": "3.8.5"
  }
 },
 "nbformat": 4,
 "nbformat_minor": 2
}
