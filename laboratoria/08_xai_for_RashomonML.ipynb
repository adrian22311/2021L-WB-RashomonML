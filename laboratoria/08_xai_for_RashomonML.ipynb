{
 "cells": [
  {
   "cell_type": "markdown",
   "metadata": {},
   "source": [
    "# Jak do tej pory wykorzystywane były zbiory Rashomon?\n",
    "\n",
    "-  When the empirical Rashomon set is large, it is reasonable to assume that models with various desirable properties can exist inside it. For example, sparser, more transparent models, models that obey domain-specific constraints such as monotonicity along a given set of features, models that obey fairness constraints, and models that rely more on features that we can trust—these models may all live within the same large Rashomon set. \n",
    "\n",
    "\n",
    "- The Rashomon ratio can serve as a gauge of simplicity for a learning problem.\n",
    "\n",
    "\n",
    "- Rashomon set is defined by the interaction between the hypothesis space and the training data. \n",
    "\n",
    "\n",
    "- Additionally, even if the candidate models do not contain the true data generating process, we may hope that some of these models function in similar ways to the data generating process. In particular, we may hope there exist well performing candidate models that place the same importance on a variable of interest as the underlying data generating process does."
   ]
  },
  {
   "cell_type": "markdown",
   "metadata": {},
   "source": [
    "## Rashomon curve\n",
    "Artykuł: [A study in Rashomon curves and volumes: A new perspective on generalization and model simplicity in machine learning](https://arxiv.org/abs/1908.01755)\n",
    "\n",
    "![](image/definition_Rashomon_curve.png)\n",
    "![](image/example_Rashomon_curve.png)\n",
    "\n",
    "### Dla różnych wartości punktu odcięcia\n",
    "![](image/example_Rashomon_curve_theta.png)"
   ]
  },
  {
   "cell_type": "markdown",
   "metadata": {},
   "source": [
    "### Wykorzystanie: \n",
    "- poszukiwanie dokładnego modelu, który jest jednocześnie interpretowalny\n",
    "- wspólna reprezentacja różnych zbiorów danych i modeli\n",
    "\n",
    "![](image/rashomon_curve_general_ml.png)\n"
   ]
  },
  {
   "cell_type": "markdown",
   "metadata": {},
   "source": [
    "## Variable importance on Rashomon set\n",
    "\n",
    "Artykuł: \n",
    "- [Exploring the cloud of variable importance for the set of all good models-preprint](https://arxiv.org/abs/1901.03209)\n",
    "\n",
    "[Exploring the cloud of variable importance for the set of all good models](https://www.nature.com/articles/s42256-020-00264-0)\n",
    "\n",
    "- [All Models are Wrong, but Many are Useful: Learning a Variable's Importance by Studying an Entire Class of Prediction Models Simultaneously](http://arxiv.org/abs/1801.01489)\n",
    "\n",
    "\n",
    "*model reliance (MR)*\n",
    "![](image/definition_model_class_reliance.png)\n",
    "![](image/definition_model_class_reliance_function.png)\n",
    "\n"
   ]
  },
  {
   "cell_type": "markdown",
   "metadata": {},
   "source": [
    "![](image/VIC_Rashomon_Logit.png)\n",
    "\n",
    "Opis wyników: \n",
    "\n",
    "By comparing multiple rows, we observe that the variable importance of prior criminal\n",
    "history has the greatest upper bound, and the variable importance of gender has the lowest\n",
    "upper bound. Moreover, prior criminal history has the greatest average variable importance\n",
    "and gender has the lowest average importance. We also find that there exist models that\n",
    "do not rely on each of the four variables. However, the diagrams in the third row reveal\n",
    "that there are only a few models with variable importance of prior criminal history being\n",
    "1, while the diagrams in the fourth row reveal that there are a lot models with variable\n",
    "importance of gender being 1. All of this evidence indicates that prior criminal history is the most important variable of those we considered, while gender is the least important one\n",
    "among the four.\n",
    "\n",
    "We now focus on the diagram at Row 3 Column 2, which reveals the variable importance\n",
    "of prior criminal history in the context of the variable importance of race. We see that when\n",
    "importance of race is close to 1.05, which is its upper bound, the variable importance of prior\n",
    "criminal history is in the range of [1.025, 1.075]. On the other hand, while the importance of\n",
    "prior criminal history is close to 1.13, which is its upper bound, the variable importance of\n",
    "race is lower. The scatter plot has a slight downward sloping right edge. Since the boundary\n",
    "of the scatter plot represents models with equal loss (because they are on the boundary of\n",
    "the Rashomon set), the downward sloping edge suggests that as we rely less on prior criminal\n",
    "history, we must rely more on race to maintain the same accuracy level. In contrast, the\n",
    "diagram at Row 3 Column 1 has a vertical right edge, suggesting that we can reduce the\n",
    "reliance on prior criminal history without increasing the reliance on age."
   ]
  },
  {
   "cell_type": "markdown",
   "metadata": {},
   "source": [
    "## Challenges\n",
    "Artykuł: [Interpretable Machine Learning: Fundamental Principles and 10 Grand Challenges](https://arxiv.org/abs/2103.11251)\n",
    "\n",
    "- How can we characterize the Rashomon set?\n",
    "- What techniques can be used to visualize the Rashomon set?\n",
    "- What model to choose from the Rashomon set?"
   ]
  },
  {
   "cell_type": "markdown",
   "metadata": {},
   "source": []
  }
 ],
 "metadata": {
  "kernelspec": {
   "display_name": "Python 3",
   "language": "python",
   "name": "python3"
  },
  "language_info": {
   "codemirror_mode": {
    "name": "ipython",
    "version": 3
   },
   "file_extension": ".py",
   "mimetype": "text/x-python",
   "name": "python",
   "nbconvert_exporter": "python",
   "pygments_lexer": "ipython3",
   "version": "3.8.5"
  }
 },
 "nbformat": 4,
 "nbformat_minor": 4
}
